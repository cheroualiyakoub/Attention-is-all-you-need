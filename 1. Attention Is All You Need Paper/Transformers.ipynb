{
  "cells": [
    {
      "cell_type": "markdown",
      "metadata": {
        "id": "view-in-github",
        "colab_type": "text"
      },
      "source": [
        "<a href=\"https://colab.research.google.com/github/cheroualiyakoub/Attention-is-all-you-need/blob/main/1.%20Attention%20Is%20All%20You%20Need%20Paper/Transformers.ipynb\" target=\"_parent\"><img src=\"https://colab.research.google.com/assets/colab-badge.svg\" alt=\"Open In Colab\"/></a>"
      ]
    },
    {
      "cell_type": "markdown",
      "metadata": {
        "id": "KmEyadzTtGxY"
      },
      "source": [
        "# Natural Language Processing | Transformer"
      ]
    },
    {
      "cell_type": "markdown",
      "metadata": {
        "id": "uOVYaAveQJia"
      },
      "source": [
        "**IMPORTANT**<br>\n",
        "Enable **GPU acceleration** by going to *Runtime > Change Runtime Type*. Keep in mind that, on certain tiers, you're not guaranteed GPU access depending on usage history and current load.\n",
        "<br><br>\n",
        "Also, if you're running this in the cloud rather than a local Jupyter server on your machine, then the notebook will *timeout* after a period of inactivity.\n",
        "<br><br>\n",
        "Refer to this link on how to run Colab notebooks locally on your machine to avoid this issue:<br>\n",
        "https://research.google.com/colaboratory/local-runtimes.html"
      ]
    },
    {
      "cell_type": "code",
      "execution_count": 34,
      "metadata": {
        "id": "vWyjB-YNwTG_",
        "colab": {
          "base_uri": "https://localhost:8080/"
        },
        "outputId": "2333c6c0-19c9-4282-c601-0fcac5a3371c"
      },
      "outputs": [
        {
          "output_type": "stream",
          "name": "stdout",
          "text": [
            "Requirement already satisfied: BPEmb in /usr/local/lib/python3.11/dist-packages (0.3.6)\n",
            "Requirement already satisfied: gensim in /usr/local/lib/python3.11/dist-packages (from BPEmb) (4.3.3)\n",
            "Requirement already satisfied: numpy in /usr/local/lib/python3.11/dist-packages (from BPEmb) (1.26.4)\n",
            "Requirement already satisfied: requests in /usr/local/lib/python3.11/dist-packages (from BPEmb) (2.32.3)\n",
            "Requirement already satisfied: sentencepiece in /usr/local/lib/python3.11/dist-packages (from BPEmb) (0.2.0)\n",
            "Requirement already satisfied: tqdm in /usr/local/lib/python3.11/dist-packages (from BPEmb) (4.67.1)\n",
            "Requirement already satisfied: scipy<1.14.0,>=1.7.0 in /usr/local/lib/python3.11/dist-packages (from gensim->BPEmb) (1.13.1)\n",
            "Requirement already satisfied: smart-open>=1.8.1 in /usr/local/lib/python3.11/dist-packages (from gensim->BPEmb) (7.1.0)\n",
            "Requirement already satisfied: charset-normalizer<4,>=2 in /usr/local/lib/python3.11/dist-packages (from requests->BPEmb) (3.4.1)\n",
            "Requirement already satisfied: idna<4,>=2.5 in /usr/local/lib/python3.11/dist-packages (from requests->BPEmb) (3.10)\n",
            "Requirement already satisfied: urllib3<3,>=1.21.1 in /usr/local/lib/python3.11/dist-packages (from requests->BPEmb) (2.3.0)\n",
            "Requirement already satisfied: certifi>=2017.4.17 in /usr/local/lib/python3.11/dist-packages (from requests->BPEmb) (2024.12.14)\n",
            "Requirement already satisfied: wrapt in /usr/local/lib/python3.11/dist-packages (from smart-open>=1.8.1->gensim->BPEmb) (1.17.2)\n"
          ]
        }
      ],
      "source": [
        "!pip install BPEmb\n",
        "\n",
        "import math\n",
        "import numpy as np\n",
        "import tensorflow as tf\n",
        "\n",
        "from bpemb import BPEmb"
      ]
    },
    {
      "cell_type": "markdown",
      "metadata": {
        "id": "MenE2varZEXc"
      },
      "source": [
        "# Transformers From Scratch"
      ]
    },
    {
      "cell_type": "markdown",
      "metadata": {
        "id": "mDkTVv3KMJX_"
      },
      "source": [
        "We'll build a transformer from scratch, layer-by-layer. We'll start with the **Multi-Head Self-Attention** layer since that's the most involved bit. Once we have that working, the rest of the model will look familiar if you've been following the course so far."
      ]
    },
    {
      "cell_type": "markdown",
      "metadata": {
        "id": "LqX04fFXBdxy"
      },
      "source": [
        "## Multi-Head Self-Attention"
      ]
    },
    {
      "cell_type": "markdown",
      "metadata": {
        "id": "-XnKHnlYyijq"
      },
      "source": [
        "#### Scaled Dot Product Self-Attention"
      ]
    },
    {
      "cell_type": "markdown",
      "metadata": {
        "id": "3NAf9HP7RsQu"
      },
      "source": [
        "\n",
        "Inside each attention head is a **Scaled Dot Product Self-Attention** operation as we covered in the slides. Given *queries*, *keys*, and *values*, the operation returns a new \"mix\" of the values.\n",
        "\n",
        "$$Attention(Q, K, V) = softmax(\\frac{QK^T)}{\\sqrt{d_k}})V$$\n",
        "\n",
        "The following function implements this and also takes a mask to account for padding and for masking future tokens for decoding (i.e. **look-ahead mask**). We'll cover masking later in the notebook."
      ]
    },
    {
      "cell_type": "code",
      "execution_count": 35,
      "metadata": {
        "id": "7hpO6cGEN7HK"
      },
      "outputs": [],
      "source": [
        "def scaled_dot_product_attention(query, key, value, mask=None):\n",
        "  key_dim = tf.cast(tf.shape(key)[-1], tf.float32)\n",
        "  scaled_scores = tf.matmul(query, key, transpose_b=True) / np.sqrt(key_dim)\n",
        "\n",
        "  if mask is not None:\n",
        "    scaled_scores = tf.where(mask==0, -np.inf, scaled_scores)\n",
        "\n",
        "  softmax = tf.keras.layers.Softmax()\n",
        "  weights = softmax(scaled_scores)\n",
        "  return tf.matmul(weights, value), weights"
      ]
    },
    {
      "cell_type": "markdown",
      "metadata": {
        "id": "lC_HhsreXh3H"
      },
      "source": [
        "Suppose our *queries*, *keys*, and *values* are each a length of 3 with a dimension of 4."
      ]
    },
    {
      "cell_type": "code",
      "execution_count": 36,
      "metadata": {
        "id": "WB2cDybgX5LZ",
        "colab": {
          "base_uri": "https://localhost:8080/"
        },
        "outputId": "8820ab6b-6b56-4f7a-fbbc-81aea7dea55a"
      },
      "outputs": [
        {
          "output_type": "stream",
          "name": "stdout",
          "text": [
            "Queries:\n",
            " [[0.09016255 0.05664876 0.98422602 0.23257678]\n",
            " [0.64433269 0.11234856 0.32055715 0.21039094]\n",
            " [0.53803271 0.42018061 0.81938405 0.90825181]]\n"
          ]
        }
      ],
      "source": [
        "seq_len = 3\n",
        "embed_dim = 4\n",
        "\n",
        "queries = np.random.rand(seq_len, embed_dim)\n",
        "keys = np.random.rand(seq_len, embed_dim)\n",
        "values = np.random.rand(seq_len, embed_dim)\n",
        "\n",
        "print(\"Queries:\\n\", queries)"
      ]
    },
    {
      "cell_type": "markdown",
      "metadata": {
        "id": "QuNdMuz5vb1c"
      },
      "source": [
        "This would be the self-attention output and weights."
      ]
    },
    {
      "cell_type": "code",
      "execution_count": 37,
      "metadata": {
        "id": "pxKj56hNX5UO",
        "colab": {
          "base_uri": "https://localhost:8080/"
        },
        "outputId": "e4bafd8b-d969-4c9f-db6e-27f55c0afe8f"
      },
      "outputs": [
        {
          "output_type": "stream",
          "name": "stdout",
          "text": [
            "Output\n",
            " tf.Tensor(\n",
            "[[0.10308886 0.5407429  0.5554236  0.51850426]\n",
            " [0.11125512 0.54034936 0.5352532  0.5036852 ]\n",
            " [0.1103044  0.5422263  0.53625214 0.5054381 ]], shape=(3, 4), dtype=float32) \n",
            "\n",
            "Weights\n",
            " tf.Tensor(\n",
            "[[0.28296292 0.39674172 0.32029533]\n",
            " [0.33348697 0.29106882 0.37544426]\n",
            " [0.33065036 0.30199978 0.36734986]], shape=(3, 3), dtype=float32)\n"
          ]
        }
      ],
      "source": [
        "output, attn_weights = scaled_dot_product_attention(queries, keys, values)\n",
        "\n",
        "print(\"Output\\n\", output, \"\\n\")\n",
        "print(\"Weights\\n\", attn_weights)"
      ]
    },
    {
      "cell_type": "markdown",
      "metadata": {
        "id": "O8NLm6qaN7DE"
      },
      "source": [
        "#### Generating queries, keys, and values for multiple heads."
      ]
    },
    {
      "cell_type": "markdown",
      "metadata": {
        "id": "wBm9jbpSN6-L"
      },
      "source": [
        "Now that we have a way to calculate self-attention, let's actually generate the input *queries*, *keys*, and *values* for multiple heads.\n",
        "<br><br>\n",
        "In the slides (and in most references), each attention head had its <u>own separate</u> set of *query*, *key*, and *value* weights. Each weight matrix was of dimension $d\\ x \\ d/h$ where h was the number of heads."
      ]
    },
    {
      "cell_type": "markdown",
      "metadata": {
        "id": "YLiJy9OzfMu5"
      },
      "source": [
        "<img src=\"https://github.com/cheroualiyakoub/Attention-is-all-you-need/blob/main/1.%20Attention%20Is%20All%20You%20Need%20Paper/pic/multi_head_self_attention.png?raw=1\" alt=\"Alternative text\" />"
      ]
    },
    {
      "cell_type": "markdown",
      "metadata": {
        "id": "3tKPwmi3fbys"
      },
      "source": [
        "It's easier to understand things this way and we can certainly code it this way as well. But we can also \"simulate\" different heads with a single query matrix, single key matrix, and single value matrix.\n",
        "<br><br>\n",
        "We'll do both. First we'll create *query*, *key*, and *value* vectors using separate weights per head.\n",
        "<br><br>\n",
        "In the slides, we used an example of 12 dimensional embeddings processed by  three attentions heads, and we'll do the same here."
      ]
    },
    {
      "cell_type": "code",
      "execution_count": 38,
      "metadata": {
        "id": "rJLyGtqbX3uW",
        "colab": {
          "base_uri": "https://localhost:8080/"
        },
        "outputId": "d9fcbf0d-777e-4036-cb66-672558562d47"
      },
      "outputs": [
        {
          "output_type": "stream",
          "name": "stdout",
          "text": [
            "Dimension of each head: 4\n"
          ]
        }
      ],
      "source": [
        "batch_size = 1\n",
        "seq_len = 3\n",
        "embed_dim = 12\n",
        "num_heads = 3\n",
        "head_dim = embed_dim // num_heads\n",
        "\n",
        "print(f\"Dimension of each head: {head_dim}\")"
      ]
    },
    {
      "cell_type": "markdown",
      "metadata": {
        "id": "JDl37YzAf7bh"
      },
      "source": [
        "**Using separate weight matrices per head**"
      ]
    },
    {
      "cell_type": "markdown",
      "metadata": {
        "id": "xQ_KoJq3fv-A"
      },
      "source": [
        "Suppose these are our input embeddings. Here we have a batch of 1 containing a sequence of length 3, with each element being a 12-dimensional embedding."
      ]
    },
    {
      "cell_type": "code",
      "execution_count": 39,
      "metadata": {
        "id": "7NcX3KBrX3uW",
        "colab": {
          "base_uri": "https://localhost:8080/"
        },
        "outputId": "0996b1dd-0b32-41b0-c652-2d2fe51d3f8c"
      },
      "outputs": [
        {
          "output_type": "stream",
          "name": "stdout",
          "text": [
            "Input shape:  (1, 3, 12) \n",
            "\n",
            "Input:\n",
            " [[[0.5 0.3 0.1 0.  0.  0.8 0.3 0.3 0.4 0.9 1.  0.4]\n",
            "  [0.9 0.3 0.3 0.6 0.6 0.9 0.8 0.4 0.7 0.2 0.6 0.9]\n",
            "  [0.8 0.1 0.7 0.1 0.9 0.7 0.5 0.1 0.6 0.3 0.9 0.4]]]\n"
          ]
        }
      ],
      "source": [
        "x = np.random.rand(batch_size, seq_len, embed_dim).round(1)\n",
        "print(\"Input shape: \", x.shape, \"\\n\")\n",
        "print(\"Input:\\n\", x)"
      ]
    },
    {
      "cell_type": "markdown",
      "metadata": {
        "id": "uvJicbp6f7pI"
      },
      "source": [
        "We'll declare three sets of *query* weights (one for each head), three sets of *key* weights, and three sets of *value* weights. Remember each weight matrix should have a dimension of $\\ \\text{d/h}$."
      ]
    },
    {
      "cell_type": "code",
      "source": [],
      "metadata": {
        "id": "mJcP9Mdd4up0"
      },
      "execution_count": 39,
      "outputs": []
    },
    {
      "cell_type": "code",
      "execution_count": 40,
      "metadata": {
        "id": "8zdg7rqrX3uX"
      },
      "outputs": [],
      "source": [
        "# The query weights for each head.\n",
        "wq0 = np.random.rand(embed_dim, head_dim).round(1)\n",
        "wq1 = np.random.rand(embed_dim, head_dim).round(1)\n",
        "wq2 = np.random.rand(embed_dim, head_dim).round(1)\n",
        "\n",
        "# The key weights for each head.\n",
        "wk0 = np.random.rand(embed_dim, head_dim).round(1)\n",
        "wk1 = np.random.rand(embed_dim, head_dim).round(1)\n",
        "wk2 = np.random.rand(embed_dim, head_dim).round(1)\n",
        "\n",
        "# The value weights for each head.\n",
        "wv0 = np.random.rand(embed_dim, head_dim).round(1)\n",
        "wv1 = np.random.rand(embed_dim, head_dim).round(1)\n",
        "wv2 = np.random.rand(embed_dim, head_dim).round(1)"
      ]
    },
    {
      "cell_type": "code",
      "execution_count": 41,
      "metadata": {
        "id": "QzMRHZooX3uX",
        "colab": {
          "base_uri": "https://localhost:8080/"
        },
        "outputId": "b37c452d-2f01-40bc-d164-06be646cbcdc"
      },
      "outputs": [
        {
          "output_type": "stream",
          "name": "stdout",
          "text": [
            "The three sets of query weights (one for each head):\n",
            "wq0:\n",
            " [[0.4 0.2 0.4 0.3]\n",
            " [0.8 0.7 0.1 0.1]\n",
            " [0.3 0.  0.4 0.3]\n",
            " [0.6 0.8 0.7 0.9]\n",
            " [0.8 0.4 0.1 0.4]\n",
            " [0.2 0.7 0.1 0.8]\n",
            " [0.2 0.1 0.3 0.7]\n",
            " [0.9 0.4 0.2 0.9]\n",
            " [0.9 0.6 0.8 0.1]\n",
            " [0.8 0.9 0.1 0.5]\n",
            " [0.2 0.8 0.1 0.8]\n",
            " [0.8 0.7 0.8 0.5]]\n",
            "wq1:\n",
            " [[0.7 0.8 0.9 0.8]\n",
            " [0.9 0.4 0.6 0.6]\n",
            " [0.1 0.6 0.4 0.8]\n",
            " [1.  0.6 0.5 0.1]\n",
            " [0.1 0.5 0.1 0.8]\n",
            " [0.2 0.2 0.5 0.6]\n",
            " [0.2 0.3 0.1 0.4]\n",
            " [0.6 0.8 0.6 0.8]\n",
            " [0.5 0.2 0.2 0.1]\n",
            " [0.8 0.1 0.8 0.9]\n",
            " [0.8 0.7 0.1 1. ]\n",
            " [0.4 0.1 0.3 0.9]]\n",
            "wq2:\n",
            " [[0.7 0.8 0.9 0.8]\n",
            " [0.9 0.4 0.6 0.6]\n",
            " [0.1 0.6 0.4 0.8]\n",
            " [1.  0.6 0.5 0.1]\n",
            " [0.1 0.5 0.1 0.8]\n",
            " [0.2 0.2 0.5 0.6]\n",
            " [0.2 0.3 0.1 0.4]\n",
            " [0.6 0.8 0.6 0.8]\n",
            " [0.5 0.2 0.2 0.1]\n",
            " [0.8 0.1 0.8 0.9]\n",
            " [0.8 0.7 0.1 1. ]\n",
            " [0.4 0.1 0.3 0.9]]\n"
          ]
        }
      ],
      "source": [
        "print(\"The three sets of query weights (one for each head):\")\n",
        "print(\"wq0:\\n\", wq0)\n",
        "print(\"wq1:\\n\", wq1)\n",
        "print(\"wq2:\\n\", wq1)"
      ]
    },
    {
      "cell_type": "markdown",
      "metadata": {
        "id": "HmwGKV9qgch-"
      },
      "source": [
        "We'll generate our *queries*, *keys*, and *values* for each head by multiplying our input by the weights."
      ]
    },
    {
      "cell_type": "code",
      "execution_count": 42,
      "metadata": {
        "id": "NucbYNNSX3uX"
      },
      "outputs": [],
      "source": [
        "# Geneated queries, keys, and values for the first head.\n",
        "q0 = np.dot(x, wq0)\n",
        "k0 = np.dot(x, wk0)\n",
        "v0 = np.dot(x, wv0)\n",
        "\n",
        "# Geneated queries, keys, and values for the second head.\n",
        "q1 = np.dot(x, wq1)\n",
        "k1 = np.dot(x, wk1)\n",
        "v1 = np.dot(x, wv1)\n",
        "\n",
        "# Geneated queries, keys, and values for the third head.\n",
        "q2 = np.dot(x, wq2)\n",
        "k2 = np.dot(x, wk2)\n",
        "v2 = np.dot(x, wv2)"
      ]
    },
    {
      "cell_type": "markdown",
      "metadata": {
        "id": "AIDiwWZ0gqhm"
      },
      "source": [
        "These are the resulting *query*, *key*, and *value* vectors for the first head."
      ]
    },
    {
      "cell_type": "code",
      "execution_count": 43,
      "metadata": {
        "id": "NMcMmbkqX3uX",
        "colab": {
          "base_uri": "https://localhost:8080/"
        },
        "outputId": "611af0a9-19c8-45a4-a53c-ad4512ff7a48"
      },
      "outputs": [
        {
          "output_type": "stream",
          "name": "stdout",
          "text": [
            "Q, K, and V for first head:\n",
            "\n",
            "q0 (1, 3, 4):\n",
            " [[[2.56 3.15 1.33 2.82]\n",
            "  [3.86 3.69 2.76 3.91]\n",
            "  [3.   2.88 1.93 3.04]]] \n",
            "\n",
            "k0 (1, 3, 4):\n",
            " [[[3.17 2.36 2.56 2.43]\n",
            "  [4.21 2.91 3.55 3.32]\n",
            "  [3.57 2.25 3.13 2.72]]] \n",
            "\n",
            "v0 (1, 3, 4):\n",
            " [[[2.82 2.52 2.7  2.05]\n",
            "  [3.62 3.01 3.49 3.44]\n",
            "  [3.29 2.42 3.1  3.07]]]\n"
          ]
        }
      ],
      "source": [
        "print(\"Q, K, and V for first head:\\n\")\n",
        "\n",
        "print(f\"q0 {q0.shape}:\\n\", q0, \"\\n\")\n",
        "print(f\"k0 {k0.shape}:\\n\", k0, \"\\n\")\n",
        "print(f\"v0 {v0.shape}:\\n\", v0)"
      ]
    },
    {
      "cell_type": "markdown",
      "metadata": {
        "id": "iw5CQ9i6qZDv"
      },
      "source": [
        "Now that we have our Q, K, V vectors, we can just pass them to our self-attention operation. Here we're calculating the output and attention weights for the first head."
      ]
    },
    {
      "cell_type": "code",
      "execution_count": 44,
      "metadata": {
        "id": "i7tHIvXKX3uX",
        "colab": {
          "base_uri": "https://localhost:8080/"
        },
        "outputId": "887b6f13-dece-4c7e-8da8-8746fa1fbd3a"
      },
      "outputs": [
        {
          "output_type": "stream",
          "name": "stdout",
          "text": [
            "Output from first attention head:  tf.Tensor(\n",
            "[[[3.5920599 2.9744961 3.459369  3.401097 ]\n",
            "  [3.613446  3.0002985 3.4825878 3.4315946]\n",
            "  [3.600311  2.983282  3.4681337 3.4134767]]], shape=(1, 3, 4), dtype=float32) \n",
            "\n",
            "Attention weights from first head:  tf.Tensor(\n",
            "[[[0.01536692 0.93721914 0.04741397]\n",
            "  [0.00214407 0.9831933  0.01466269]\n",
            "  [0.00902194 0.9531857  0.03779246]]], shape=(1, 3, 3), dtype=float32)\n"
          ]
        }
      ],
      "source": [
        "out0, attn_weights0 = scaled_dot_product_attention(q0, k0, v0)\n",
        "\n",
        "print(\"Output from first attention head: \", out0, \"\\n\")\n",
        "print(\"Attention weights from first head: \", attn_weights0)"
      ]
    },
    {
      "cell_type": "markdown",
      "metadata": {
        "id": "DoYEXSm7qr_A"
      },
      "source": [
        "Here are the other two (attention weights are ignored)."
      ]
    },
    {
      "cell_type": "code",
      "execution_count": 45,
      "metadata": {
        "id": "otnqbaDSqpJ7",
        "colab": {
          "base_uri": "https://localhost:8080/"
        },
        "outputId": "abd8437e-4fed-4538-a5f0-9ef8d0d90163"
      },
      "outputs": [
        {
          "output_type": "stream",
          "name": "stdout",
          "text": [
            "Output from second attention head:  tf.Tensor(\n",
            "[[[3.1222017 3.6094034 3.178613  2.502714 ]\n",
            "  [3.1327453 3.6216776 3.1971664 2.5129533]\n",
            "  [3.127195  3.615222  3.1873956 2.5075629]]], shape=(1, 3, 4), dtype=float32) \n",
            "\n",
            "Output from third attention head:  tf.Tensor(\n",
            "[[[2.8246992 2.1105528 3.5810847 3.5944724]\n",
            "  [2.828389  2.11703   3.5872064 3.5983238]\n",
            "  [2.8269708 2.114478  3.5848002 3.5968463]]], shape=(1, 3, 4), dtype=float32)\n"
          ]
        }
      ],
      "source": [
        "out1, _ = scaled_dot_product_attention(q1, k1, v1)\n",
        "out2, _ = scaled_dot_product_attention(q2, k2, v2)\n",
        "\n",
        "print(\"Output from second attention head: \", out1, \"\\n\")\n",
        "print(\"Output from third attention head: \", out2,)"
      ]
    },
    {
      "cell_type": "markdown",
      "metadata": {
        "id": "lOV717bqX3uX"
      },
      "source": [
        "As we covered in the slides, once we have each head's output, we concatenate them and then put them through a linear layer for further processing."
      ]
    },
    {
      "cell_type": "code",
      "execution_count": 46,
      "metadata": {
        "id": "gmSv5trtt2v9",
        "colab": {
          "base_uri": "https://localhost:8080/"
        },
        "outputId": "bdfd0667-ecb0-4e0f-d952-bbc9eccdaba0"
      },
      "outputs": [
        {
          "output_type": "stream",
          "name": "stdout",
          "text": [
            "Combined output from all heads (1, 3, 12):\n",
            "[[[3.5920599 2.9744961 3.459369  3.401097  3.1222017 3.6094034 3.178613\n",
            "   2.502714  2.8246992 2.1105528 3.5810847 3.5944724]\n",
            "  [3.613446  3.0002985 3.4825878 3.4315946 3.1327453 3.6216776 3.1971664\n",
            "   2.5129533 2.828389  2.11703   3.5872064 3.5983238]\n",
            "  [3.600311  2.983282  3.4681337 3.4134767 3.127195  3.615222  3.1873956\n",
            "   2.5075629 2.8269708 2.114478  3.5848002 3.5968463]]]\n"
          ]
        }
      ],
      "source": [
        "combined_out_a = np.concatenate((out0, out1, out2), axis=-1)\n",
        "print(f\"Combined output from all heads {combined_out_a.shape}:\")\n",
        "print(combined_out_a)\n",
        "\n",
        "# The final step would be to run combined_out_a through a linear/dense layer\n",
        "# for further processing."
      ]
    },
    {
      "cell_type": "markdown",
      "metadata": {
        "id": "RRZpFR0Wt8h9"
      },
      "source": [
        "So that's a complete run of **multi-head self-attention** using separate sets of weights per head.<br>\n",
        "\n",
        "Let's now get the same thing done using a single query weight matrix, single key weight matrix, and single value weight matrix.<br><br>\n",
        "These were our separate per-head query weights:"
      ]
    },
    {
      "cell_type": "code",
      "execution_count": 47,
      "metadata": {
        "id": "XoJmLAsUX3uX",
        "colab": {
          "base_uri": "https://localhost:8080/"
        },
        "outputId": "018511c3-ac59-4f29-f45c-432ecd9269ec"
      },
      "outputs": [
        {
          "output_type": "stream",
          "name": "stdout",
          "text": [
            "Query weights for first head: \n",
            " [[0.4 0.2 0.4 0.3]\n",
            " [0.8 0.7 0.1 0.1]\n",
            " [0.3 0.  0.4 0.3]\n",
            " [0.6 0.8 0.7 0.9]\n",
            " [0.8 0.4 0.1 0.4]\n",
            " [0.2 0.7 0.1 0.8]\n",
            " [0.2 0.1 0.3 0.7]\n",
            " [0.9 0.4 0.2 0.9]\n",
            " [0.9 0.6 0.8 0.1]\n",
            " [0.8 0.9 0.1 0.5]\n",
            " [0.2 0.8 0.1 0.8]\n",
            " [0.8 0.7 0.8 0.5]] \n",
            "\n",
            "Query weights for second head: \n",
            " [[0.7 0.8 0.9 0.8]\n",
            " [0.9 0.4 0.6 0.6]\n",
            " [0.1 0.6 0.4 0.8]\n",
            " [1.  0.6 0.5 0.1]\n",
            " [0.1 0.5 0.1 0.8]\n",
            " [0.2 0.2 0.5 0.6]\n",
            " [0.2 0.3 0.1 0.4]\n",
            " [0.6 0.8 0.6 0.8]\n",
            " [0.5 0.2 0.2 0.1]\n",
            " [0.8 0.1 0.8 0.9]\n",
            " [0.8 0.7 0.1 1. ]\n",
            " [0.4 0.1 0.3 0.9]] \n",
            "\n",
            "Query weights for third head: \n",
            " [[0.9 0.8 0.2 0.6]\n",
            " [0.4 0.5 0.9 0.5]\n",
            " [0.4 0.9 0.6 0.9]\n",
            " [0.2 0.3 0.9 0.9]\n",
            " [0.3 0.5 0.8 0.3]\n",
            " [0.8 0.9 0.8 0.9]\n",
            " [0.2 0.3 0.1 0.2]\n",
            " [0.6 0.2 0.2 0.7]\n",
            " [0.2 0.6 0.2 0.1]\n",
            " [0.7 0.9 0.7 0.4]\n",
            " [0.1 0.9 0.2 0.6]\n",
            " [1.  0.6 0.6 0.5]]\n"
          ]
        }
      ],
      "source": [
        "print(\"Query weights for first head: \\n\", wq0, \"\\n\")\n",
        "print(\"Query weights for second head: \\n\", wq1, \"\\n\")\n",
        "print(\"Query weights for third head: \\n\", wq2)"
      ]
    },
    {
      "cell_type": "markdown",
      "metadata": {
        "id": "oa_p3bk8mO9D"
      },
      "source": [
        "Suppose instead of declaring three separate query weight matrices, we had declared one. i.e. a single $d\\ x\\ d$ matrix. We're concatenating our per-head query weights here instead of declaring a new set of weights so that we get the same results."
      ]
    },
    {
      "cell_type": "code",
      "execution_count": 48,
      "metadata": {
        "id": "7jh6zeg1X3uX",
        "colab": {
          "base_uri": "https://localhost:8080/"
        },
        "outputId": "acc9aa04-9ea7-4821-e44c-602f643a06fd"
      },
      "outputs": [
        {
          "output_type": "stream",
          "name": "stdout",
          "text": [
            "Single query weight matrix (12, 12): \n",
            " [[0.4 0.2 0.4 0.3 0.7 0.8 0.9 0.8 0.9 0.8 0.2 0.6]\n",
            " [0.8 0.7 0.1 0.1 0.9 0.4 0.6 0.6 0.4 0.5 0.9 0.5]\n",
            " [0.3 0.  0.4 0.3 0.1 0.6 0.4 0.8 0.4 0.9 0.6 0.9]\n",
            " [0.6 0.8 0.7 0.9 1.  0.6 0.5 0.1 0.2 0.3 0.9 0.9]\n",
            " [0.8 0.4 0.1 0.4 0.1 0.5 0.1 0.8 0.3 0.5 0.8 0.3]\n",
            " [0.2 0.7 0.1 0.8 0.2 0.2 0.5 0.6 0.8 0.9 0.8 0.9]\n",
            " [0.2 0.1 0.3 0.7 0.2 0.3 0.1 0.4 0.2 0.3 0.1 0.2]\n",
            " [0.9 0.4 0.2 0.9 0.6 0.8 0.6 0.8 0.6 0.2 0.2 0.7]\n",
            " [0.9 0.6 0.8 0.1 0.5 0.2 0.2 0.1 0.2 0.6 0.2 0.1]\n",
            " [0.8 0.9 0.1 0.5 0.8 0.1 0.8 0.9 0.7 0.9 0.7 0.4]\n",
            " [0.2 0.8 0.1 0.8 0.8 0.7 0.1 1.  0.1 0.9 0.2 0.6]\n",
            " [0.8 0.7 0.8 0.5 0.4 0.1 0.3 0.9 1.  0.6 0.6 0.5]]\n"
          ]
        }
      ],
      "source": [
        "wq = np.concatenate((wq0, wq1, wq2), axis=1)\n",
        "print(f\"Single query weight matrix {wq.shape}: \\n\", wq)"
      ]
    },
    {
      "cell_type": "markdown",
      "metadata": {
        "id": "-9MzE5Okmdbl"
      },
      "source": [
        "In the same vein, pretend we declared a single key weight matrix, and single value weight matrix."
      ]
    },
    {
      "cell_type": "code",
      "execution_count": 49,
      "metadata": {
        "id": "xq2guuobX3uX",
        "colab": {
          "base_uri": "https://localhost:8080/"
        },
        "outputId": "733ca68b-990e-468e-ba81-398fcb289f28"
      },
      "outputs": [
        {
          "output_type": "stream",
          "name": "stdout",
          "text": [
            "Single key weight matrix (12, 12):\n",
            " [[0.2 0.1 0.4 0.1 0.7 0.7 0.5 0.5 0.9 0.5 0.8 0.1]\n",
            " [0.3 0.5 0.  0.8 0.1 0.4 0.6 0.1 0.9 0.3 0.7 0.5]\n",
            " [0.4 0.1 0.4 0.7 0.9 0.3 0.3 0.9 0.3 0.1 0.7 0.9]\n",
            " [0.1 0.9 0.8 0.7 0.  0.6 0.7 0.8 0.7 1.  0.1 0. ]\n",
            " [0.7 0.4 0.9 0.4 0.6 0.4 0.6 0.3 0.2 0.6 0.2 0.8]\n",
            " [0.9 0.6 0.6 0.6 0.3 0.7 0.7 0.2 0.8 0.3 0.7 0.8]\n",
            " [0.3 0.2 0.2 0.6 0.7 0.8 0.2 0.8 0.8 0.6 0.5 0.9]\n",
            " [0.8 0.6 0.4 1.  0.1 0.2 0.9 0.1 0.8 0.2 0.9 0.8]\n",
            " [0.9 0.8 0.3 0.3 0.7 0.3 0.5 0.3 0.6 0.5 0.8 0.6]\n",
            " [0.7 0.9 1.  0.5 0.3 0.3 0.1 0.7 0.8 0.  0.4 0.9]\n",
            " [0.5 0.3 0.4 0.5 0.2 0.6 0.1 0.4 0.1 0.1 0.7 1. ]\n",
            " [1.  0.  0.6 0.1 1.  0.5 0.3 0.5 0.  1.  0.3 0. ]] \n",
            "\n",
            "Single value weight matrix (12, 12):\n",
            " [[0.4 0.5 0.6 1.  0.7 0.1 0.2 0.2 0.9 0.4 0.5 0.9]\n",
            " [0.1 0.2 0.1 0.8 0.9 0.9 1.  0.7 0.  0.6 0.2 0.2]\n",
            " [0.3 0.1 0.2 0.6 0.6 0.9 0.4 0.9 1.  0.3 0.1 0.4]\n",
            " [0.2 0.1 0.3 0.2 0.6 0.4 0.8 0.1 0.3 0.7 0.2 0. ]\n",
            " [0.6 0.2 0.6 0.8 0.4 0.8 0.8 0.1 0.  0.  0.4 0.1]\n",
            " [0.8 0.9 0.3 0.3 0.4 0.8 0.  0.1 0.8 0.1 0.4 0.7]\n",
            " [0.6 0.1 0.4 0.4 0.3 0.4 0.5 0.8 0.2 0.  0.2 0.9]\n",
            " [0.9 0.8 0.6 0.7 0.  0.6 0.9 0.7 0.4 0.  0.7 0.3]\n",
            " [0.7 1.  0.1 0.1 0.3 0.6 0.1 0.5 0.1 0.  0.8 0.4]\n",
            " [0.5 0.7 0.5 0.2 0.7 0.2 0.5 0.4 0.8 0.4 0.8 0.4]\n",
            " [0.7 0.1 1.  0.3 0.4 0.3 0.6 0.2 0.  0.6 0.9 0.9]\n",
            " [0.1 0.2 0.8 0.4 0.3 0.4 0.4 0.2 0.3 0.6 0.7 0.2]]\n"
          ]
        }
      ],
      "source": [
        "wk = np.concatenate((wk0, wk1, wk2), axis=1)\n",
        "wv = np.concatenate((wv0, wv1, wv2), axis=1)\n",
        "\n",
        "print(f\"Single key weight matrix {wk.shape}:\\n\", wk, \"\\n\")\n",
        "print(f\"Single value weight matrix {wv.shape}:\\n\", wv)"
      ]
    },
    {
      "cell_type": "markdown",
      "metadata": {
        "id": "WA7dl1VRnXHz"
      },
      "source": [
        "Now we can calculate all our *queries*, *keys*, and *values* with three dot products."
      ]
    },
    {
      "cell_type": "code",
      "execution_count": 50,
      "metadata": {
        "id": "UQ5i98bLX3uX"
      },
      "outputs": [],
      "source": [
        "q_s = np.dot(x, wq)\n",
        "k_s = np.dot(x, wk)\n",
        "v_s = np.dot(x, wv)"
      ]
    },
    {
      "cell_type": "markdown",
      "metadata": {
        "id": "xkAzG-bgnx1U"
      },
      "source": [
        "These are our resulting query vectors (we'll call them \"combined queries\"). How do we simulate different heads with this?"
      ]
    },
    {
      "cell_type": "code",
      "execution_count": 51,
      "metadata": {
        "id": "H-qKM3jZr242",
        "colab": {
          "base_uri": "https://localhost:8080/"
        },
        "outputId": "e805cb91-dcc8-4398-abcc-8f41c45cf0f9"
      },
      "outputs": [
        {
          "output_type": "stream",
          "name": "stdout",
          "text": [
            "Query vectors using a single weight matrix (1, 3, 12):\n",
            " [[[2.56 3.15 1.33 2.82 2.91 1.98 2.3  3.71 2.7  3.7  2.31 2.73]\n",
            "  [3.86 3.69 2.76 3.91 3.52 3.09 2.87 4.52 3.71 4.43 3.47 3.89]\n",
            "  [3.   2.88 1.93 3.04 2.63 2.8  2.23 4.28 2.87 4.28 2.86 3.24]]]\n"
          ]
        }
      ],
      "source": [
        "print(f\"Query vectors using a single weight matrix {q_s.shape}:\\n\", q_s)"
      ]
    },
    {
      "cell_type": "markdown",
      "metadata": {
        "id": "qsUULAgRsB2n"
      },
      "source": [
        "Somehow, we need to separate these vectors such they're treated like three separate sets by the self-attention operation."
      ]
    },
    {
      "cell_type": "code",
      "execution_count": 52,
      "metadata": {
        "id": "FKXYVHbJvnGp",
        "colab": {
          "base_uri": "https://localhost:8080/"
        },
        "outputId": "e2e6b4a6-3f91-4ed1-c4a5-69cd2849c0b9"
      },
      "outputs": [
        {
          "output_type": "stream",
          "name": "stdout",
          "text": [
            "[[[2.56 3.15 1.33 2.82]\n",
            "  [3.86 3.69 2.76 3.91]\n",
            "  [3.   2.88 1.93 3.04]]] \n",
            "\n",
            "[[[2.91 1.98 2.3  3.71]\n",
            "  [3.52 3.09 2.87 4.52]\n",
            "  [2.63 2.8  2.23 4.28]]] \n",
            "\n",
            "[[[2.7  3.7  2.31 2.73]\n",
            "  [3.71 4.43 3.47 3.89]\n",
            "  [2.87 4.28 2.86 3.24]]]\n"
          ]
        }
      ],
      "source": [
        "print(q0, \"\\n\")\n",
        "print(q1, \"\\n\")\n",
        "print(q2)"
      ]
    },
    {
      "cell_type": "markdown",
      "metadata": {
        "id": "twXi0Sx-sTut"
      },
      "source": [
        "Notice how each set of per-head queries looks like we took the combined queries, and chopped them vertically every four dimensions.\n",
        "<br><br>\n",
        "We can split our combined queries into $\\text{d}\\ \\text{x}\\ \\text{d/h}$ heads using **reshape** and **transpose**.<br><br>\n",
        "The first step is to *reshape* our combined queries from a shape of:<br>\n",
        "(batch_size, seq_len, embed_dim)<br>\n",
        "\n",
        "into a shape of<br>\n",
        " (batch_size, seq_len, num_heads, head_dim).\n",
        " <br>\n",
        "\n",
        " https://www.tensorflow.org/api_docs/python/tf/reshape"
      ]
    },
    {
      "cell_type": "code",
      "execution_count": 53,
      "metadata": {
        "id": "d3iHh7XxX3uY",
        "colab": {
          "base_uri": "https://localhost:8080/"
        },
        "outputId": "ec5373de-f1cc-490a-9e9f-0661f4f8d124"
      },
      "outputs": [
        {
          "output_type": "stream",
          "name": "stdout",
          "text": [
            "Combined queries: (1, 3, 12)\n",
            " [[[2.56 3.15 1.33 2.82 2.91 1.98 2.3  3.71 2.7  3.7  2.31 2.73]\n",
            "  [3.86 3.69 2.76 3.91 3.52 3.09 2.87 4.52 3.71 4.43 3.47 3.89]\n",
            "  [3.   2.88 1.93 3.04 2.63 2.8  2.23 4.28 2.87 4.28 2.86 3.24]]] \n",
            "\n",
            "Reshaped into separate heads: (1, 3, 3, 4)\n",
            " tf.Tensor(\n",
            "[[[[2.56 3.15 1.33 2.82]\n",
            "   [2.91 1.98 2.3  3.71]\n",
            "   [2.7  3.7  2.31 2.73]]\n",
            "\n",
            "  [[3.86 3.69 2.76 3.91]\n",
            "   [3.52 3.09 2.87 4.52]\n",
            "   [3.71 4.43 3.47 3.89]]\n",
            "\n",
            "  [[3.   2.88 1.93 3.04]\n",
            "   [2.63 2.8  2.23 4.28]\n",
            "   [2.87 4.28 2.86 3.24]]]], shape=(1, 3, 3, 4), dtype=float64)\n"
          ]
        }
      ],
      "source": [
        "# Note: we can achieve the same thing by passing -1 instead of seq_len.\n",
        "q_s_reshaped = tf.reshape(q_s, (batch_size, seq_len, num_heads, head_dim))\n",
        "print(f\"Combined queries: {q_s.shape}\\n\", q_s, \"\\n\")\n",
        "print(f\"Reshaped into separate heads: {q_s_reshaped.shape}\\n\", q_s_reshaped)"
      ]
    },
    {
      "cell_type": "markdown",
      "metadata": {
        "id": "6fIWohaZvVs9"
      },
      "source": [
        "At this point, we have our desired shape. The next step is to *transpose* it such that simulates vertically chopping our combined queries. By transposing, our matrix dimensions become:<br>\n",
        "(batch_size, num_heads, seq_len, head_dim)<br>\n",
        "\n",
        "https://www.tensorflow.org/api_docs/python/tf/transpose"
      ]
    },
    {
      "cell_type": "code",
      "execution_count": 54,
      "metadata": {
        "id": "6Vv3kV3jX3uY",
        "colab": {
          "base_uri": "https://localhost:8080/"
        },
        "outputId": "5a2fbcd0-0abb-4819-f94f-0b6a761959a7"
      },
      "outputs": [
        {
          "output_type": "stream",
          "name": "stdout",
          "text": [
            "Queries transposed into \"separate\" heads (1, 3, 3, 4):\n",
            " [[[[2.56 3.15 1.33 2.82]\n",
            "   [3.86 3.69 2.76 3.91]\n",
            "   [3.   2.88 1.93 3.04]]\n",
            "\n",
            "  [[2.91 1.98 2.3  3.71]\n",
            "   [3.52 3.09 2.87 4.52]\n",
            "   [2.63 2.8  2.23 4.28]]\n",
            "\n",
            "  [[2.7  3.7  2.31 2.73]\n",
            "   [3.71 4.43 3.47 3.89]\n",
            "   [2.87 4.28 2.86 3.24]]]]\n"
          ]
        }
      ],
      "source": [
        "q_s_transposed = tf.transpose(q_s_reshaped, perm=[0, 2, 1, 3]).numpy()\n",
        "print(f\"Queries transposed into \\\"separate\\\" heads {q_s_transposed.shape}:\\n\",\n",
        "      q_s_transposed)"
      ]
    },
    {
      "cell_type": "markdown",
      "metadata": {
        "id": "J2DOWEPewUns"
      },
      "source": [
        "If we compare this against the separate per-head queries we calculated previously, we see the same result except we now have all our queries in a single matrix."
      ]
    },
    {
      "cell_type": "code",
      "execution_count": 55,
      "metadata": {
        "id": "ZMLEBmtowQ02",
        "colab": {
          "base_uri": "https://localhost:8080/"
        },
        "outputId": "8e416776-2ade-4aa1-cf5f-8709169e71bc"
      },
      "outputs": [
        {
          "output_type": "stream",
          "name": "stdout",
          "text": [
            "The separate per-head query matrices from before: \n",
            "[[[2.56 3.15 1.33 2.82]\n",
            "  [3.86 3.69 2.76 3.91]\n",
            "  [3.   2.88 1.93 3.04]]] \n",
            "\n",
            "[[[2.91 1.98 2.3  3.71]\n",
            "  [3.52 3.09 2.87 4.52]\n",
            "  [2.63 2.8  2.23 4.28]]] \n",
            "\n",
            "[[[2.7  3.7  2.31 2.73]\n",
            "  [3.71 4.43 3.47 3.89]\n",
            "  [2.87 4.28 2.86 3.24]]]\n"
          ]
        }
      ],
      "source": [
        "print(\"The separate per-head query matrices from before: \")\n",
        "print(q0, \"\\n\")\n",
        "print(q1, \"\\n\")\n",
        "print(q2)"
      ]
    },
    {
      "cell_type": "markdown",
      "metadata": {
        "id": "kmVPAaE3wmGj"
      },
      "source": [
        "Let's do the exact same thing with our combined keys and values."
      ]
    },
    {
      "cell_type": "code",
      "execution_count": 56,
      "metadata": {
        "id": "vauGkBv3X3uY",
        "colab": {
          "base_uri": "https://localhost:8080/"
        },
        "outputId": "4f58d3cd-9463-48bb-c8df-8cc0fa57a34d"
      },
      "outputs": [
        {
          "output_type": "stream",
          "name": "stdout",
          "text": [
            "Keys for all heads in a single matrix (1, 3, 12): \n",
            " [[[[3.17 2.36 2.56 2.43]\n",
            "   [4.21 2.91 3.55 3.32]\n",
            "   [3.57 2.25 3.13 2.72]]\n",
            "\n",
            "  [[2.1  2.55 1.86 2.15]\n",
            "   [3.73 3.87 3.35 3.31]\n",
            "   [3.4  3.15 2.5  2.89]]\n",
            "\n",
            "  [[2.93 1.53 3.16 3.49]\n",
            "   [4.03 3.67 4.04 3.95]\n",
            "   [3.   2.46 3.57 4.1 ]]]] \n",
            "\n",
            "Values for all heads in a single matrix (1, 3, 12): \n",
            " [[[[2.82 2.52 2.7  2.05]\n",
            "   [3.62 3.01 3.49 3.44]\n",
            "   [3.29 2.42 3.1  3.07]]\n",
            "\n",
            "  [[2.36 2.23 2.11 1.77]\n",
            "   [3.14 3.63 3.21 2.52]\n",
            "   [2.79 3.23 2.59 2.18]]\n",
            "\n",
            "  [[2.25 1.69 3.13 2.97]\n",
            "   [2.83 2.12 3.59 3.6 ]\n",
            "   [2.57 1.63 3.13 3.33]]]]\n"
          ]
        }
      ],
      "source": [
        "k_s_transposed = tf.transpose(tf.reshape(k_s, (batch_size, -1, num_heads, head_dim)), perm=[0, 2, 1, 3]).numpy()\n",
        "v_s_transposed = tf.transpose(tf.reshape(v_s, (batch_size, -1, num_heads, head_dim)), perm=[0, 2, 1, 3]).numpy()\n",
        "\n",
        "print(f\"Keys for all heads in a single matrix {k_s.shape}: \\n\", k_s_transposed, \"\\n\")\n",
        "print(f\"Values for all heads in a single matrix {v_s.shape}: \\n\", v_s_transposed)"
      ]
    },
    {
      "cell_type": "markdown",
      "metadata": {
        "id": "ebGFAKGrxCoe"
      },
      "source": [
        "Set up this way, we can now calculate the outputs from all attention heads with a single call to our self-attention operation."
      ]
    },
    {
      "cell_type": "code",
      "execution_count": 57,
      "metadata": {
        "id": "hIElo1ObX3uY",
        "colab": {
          "base_uri": "https://localhost:8080/"
        },
        "outputId": "b3355d4a-d200-4a08-ac44-579cdf181097"
      },
      "outputs": [
        {
          "output_type": "stream",
          "name": "stdout",
          "text": [
            "Self attention output:\n",
            " tf.Tensor(\n",
            "[[[[3.5920599 2.9744961 3.459369  3.401097 ]\n",
            "   [3.613446  3.0002985 3.4825878 3.4315946]\n",
            "   [3.600311  2.983282  3.4681337 3.4134767]]\n",
            "\n",
            "  [[3.1222017 3.6094034 3.178613  2.502714 ]\n",
            "   [3.1327453 3.6216776 3.1971664 2.5129533]\n",
            "   [3.127195  3.615222  3.1873956 2.5075629]]\n",
            "\n",
            "  [[2.8246992 2.1105528 3.5810847 3.5944724]\n",
            "   [2.828389  2.11703   3.5872064 3.5983238]\n",
            "   [2.8269708 2.114478  3.5848002 3.5968463]]]], shape=(1, 3, 3, 4), dtype=float32)\n"
          ]
        }
      ],
      "source": [
        "all_heads_output, all_attn_weights = scaled_dot_product_attention(q_s_transposed,\n",
        "                                                                  k_s_transposed,\n",
        "                                                                  v_s_transposed)\n",
        "print(\"Self attention output:\\n\", all_heads_output)"
      ]
    },
    {
      "cell_type": "markdown",
      "metadata": {
        "id": "PCPtOI_awd-Z"
      },
      "source": [
        "As a sanity check, we can compare this against the outputs from individual heads we calculated earlier:"
      ]
    },
    {
      "cell_type": "code",
      "execution_count": 58,
      "metadata": {
        "id": "bXIB_z11xsh7",
        "colab": {
          "base_uri": "https://localhost:8080/"
        },
        "outputId": "b7edb42a-074c-4c5b-9c2b-7aea8255959b"
      },
      "outputs": [
        {
          "output_type": "stream",
          "name": "stdout",
          "text": [
            "Per head outputs from using separate sets of weights per head:\n",
            "tf.Tensor(\n",
            "[[[3.5920599 2.9744961 3.459369  3.401097 ]\n",
            "  [3.613446  3.0002985 3.4825878 3.4315946]\n",
            "  [3.600311  2.983282  3.4681337 3.4134767]]], shape=(1, 3, 4), dtype=float32) \n",
            "\n",
            "tf.Tensor(\n",
            "[[[3.1222017 3.6094034 3.178613  2.502714 ]\n",
            "  [3.1327453 3.6216776 3.1971664 2.5129533]\n",
            "  [3.127195  3.615222  3.1873956 2.5075629]]], shape=(1, 3, 4), dtype=float32) \n",
            "\n",
            "tf.Tensor(\n",
            "[[[2.8246992 2.1105528 3.5810847 3.5944724]\n",
            "  [2.828389  2.11703   3.5872064 3.5983238]\n",
            "  [2.8269708 2.114478  3.5848002 3.5968463]]], shape=(1, 3, 4), dtype=float32)\n"
          ]
        }
      ],
      "source": [
        "print(\"Per head outputs from using separate sets of weights per head:\")\n",
        "print(out0, \"\\n\")\n",
        "print(out1, \"\\n\")\n",
        "print(out2)"
      ]
    },
    {
      "cell_type": "markdown",
      "metadata": {
        "id": "hPlpXbZI74mX"
      },
      "source": [
        "To get the final concatenated result, we need to reverse our **reshape** and **transpose** operation, starting with the **transpose** this time."
      ]
    },
    {
      "cell_type": "code",
      "execution_count": 59,
      "metadata": {
        "id": "9lWtCPk1wuod",
        "colab": {
          "base_uri": "https://localhost:8080/"
        },
        "outputId": "572f8558-4729-4ac4-cf86-2960565c3b02"
      },
      "outputs": [
        {
          "output_type": "stream",
          "name": "stdout",
          "text": [
            "Final output from using single query, key, value matrices:\n",
            " tf.Tensor(\n",
            "[[[3.5920599 2.9744961 3.459369  3.401097  3.1222017 3.6094034 3.178613\n",
            "   2.502714  2.8246992 2.1105528 3.5810847 3.5944724]\n",
            "  [3.613446  3.0002985 3.4825878 3.4315946 3.1327453 3.6216776 3.1971664\n",
            "   2.5129533 2.828389  2.11703   3.5872064 3.5983238]\n",
            "  [3.600311  2.983282  3.4681337 3.4134767 3.127195  3.615222  3.1873956\n",
            "   2.5075629 2.8269708 2.114478  3.5848002 3.5968463]]], shape=(1, 3, 12), dtype=float32) \n",
            "\n",
            "Final output from using separate query, key, value matrices per head:\n",
            " [[[3.5920599 2.9744961 3.459369  3.401097  3.1222017 3.6094034 3.178613\n",
            "   2.502714  2.8246992 2.1105528 3.5810847 3.5944724]\n",
            "  [3.613446  3.0002985 3.4825878 3.4315946 3.1327453 3.6216776 3.1971664\n",
            "   2.5129533 2.828389  2.11703   3.5872064 3.5983238]\n",
            "  [3.600311  2.983282  3.4681337 3.4134767 3.127195  3.615222  3.1873956\n",
            "   2.5075629 2.8269708 2.114478  3.5848002 3.5968463]]]\n"
          ]
        }
      ],
      "source": [
        "combined_out_b = tf.reshape(tf.transpose(all_heads_output, perm=[0, 2, 1, 3]),\n",
        "                            shape=(batch_size, seq_len, embed_dim))\n",
        "print(\"Final output from using single query, key, value matrices:\\n\",\n",
        "      combined_out_b, \"\\n\")\n",
        "print(\"Final output from using separate query, key, value matrices per head:\\n\",\n",
        "      combined_out_a)"
      ]
    },
    {
      "cell_type": "markdown",
      "metadata": {
        "id": "Wi8WnhwL9UIa"
      },
      "source": [
        "We can encapsulate everything we just covered in a class."
      ]
    },
    {
      "cell_type": "code",
      "execution_count": 60,
      "metadata": {
        "id": "Sd_IgJI34vP4"
      },
      "outputs": [],
      "source": [
        "class MultiHeadSelfAttention(tf.keras.layers.Layer):\n",
        "  def __init__(self, d_model, num_heads):\n",
        "    super(MultiHeadSelfAttention, self).__init__()\n",
        "    self.d_model = d_model\n",
        "    self.num_heads = num_heads\n",
        "\n",
        "    self.d_head = self.d_model // self.num_heads\n",
        "\n",
        "    self.wq = tf.keras.layers.Dense(self.d_model)\n",
        "    self.wk = tf.keras.layers.Dense(self.d_model)\n",
        "    self.wv = tf.keras.layers.Dense(self.d_model)\n",
        "\n",
        "    # Linear layer to generate the final output.\n",
        "    self.dense = tf.keras.layers.Dense(self.d_model)\n",
        "\n",
        "  def split_heads(self, x):\n",
        "    batch_size = x.shape[0]\n",
        "\n",
        "    split_inputs = tf.reshape(x, (batch_size, -1, self.num_heads, self.d_head))\n",
        "    return tf.transpose(split_inputs, perm=[0, 2, 1, 3])\n",
        "\n",
        "  def merge_heads(self, x):\n",
        "    batch_size = x.shape[0]\n",
        "\n",
        "    merged_inputs = tf.transpose(x, perm=[0, 2, 1, 3])\n",
        "    return tf.reshape(merged_inputs, (batch_size, -1, self.d_model))\n",
        "\n",
        "  def call(self, q, k, v, mask):\n",
        "    qs = self.wq(q)\n",
        "    ks = self.wk(k)\n",
        "    vs = self.wv(v)\n",
        "\n",
        "    qs = self.split_heads(qs)\n",
        "    ks = self.split_heads(ks)\n",
        "    vs = self.split_heads(vs)\n",
        "\n",
        "    output, attn_weights = scaled_dot_product_attention(qs, ks, vs, mask)\n",
        "    output = self.merge_heads(output)\n",
        "\n",
        "    return self.dense(output), attn_weights\n"
      ]
    },
    {
      "cell_type": "code",
      "execution_count": 61,
      "metadata": {
        "id": "nuvv-8cg6owq",
        "colab": {
          "base_uri": "https://localhost:8080/"
        },
        "outputId": "47aa22be-bb95-4be6-f750-87287f206758"
      },
      "outputs": [
        {
          "output_type": "stream",
          "name": "stdout",
          "text": [
            "MHSA output(1, 3, 12):\n",
            "tf.Tensor(\n",
            "[[[-0.15136674  0.47280192 -0.1231066  -0.6842792  -0.9570793\n",
            "   -0.03200206  0.03029087 -0.7708946   0.69708985  0.11875576\n",
            "    0.8421662  -0.7319753 ]\n",
            "  [-0.1577799   0.46053767 -0.13005814 -0.6750201  -0.9376211\n",
            "   -0.04589014  0.01804432 -0.7830092   0.6967263   0.12486982\n",
            "    0.83996165 -0.72131324]\n",
            "  [-0.14494632  0.472653   -0.13980737 -0.6777024  -0.9674089\n",
            "   -0.03821798  0.01831874 -0.7672671   0.69209206  0.1276465\n",
            "    0.8365545  -0.7257753 ]]], shape=(1, 3, 12), dtype=float32)\n"
          ]
        }
      ],
      "source": [
        "mhsa = MultiHeadSelfAttention(12, 3)\n",
        "\n",
        "output, attn_weights = mhsa(x, x, x, None)\n",
        "print(f\"MHSA output{output.shape}:\")\n",
        "print(output)"
      ]
    },
    {
      "cell_type": "markdown",
      "metadata": {
        "id": "uAk-GG2yMM59"
      },
      "source": [
        "## Encoder Block"
      ]
    },
    {
      "cell_type": "markdown",
      "metadata": {
        "id": "BHrQaN_B_rLh"
      },
      "source": [
        "We can now build our **Encoder Block**. In addition to the **Multi-Head Self Attention** layer, the **Encoder Block** also has **skip connections**, **layer normalization steps**, and a **two-layer feed-forward neural network**. The original **Attention Is All You Need** paper also included some **dropout** applied to the self-attention output which isn't shown in the illustration below (see references for a link to the paper).\n",
        "\n",
        "<div>\n",
        "<img src=\"https://github.com/cheroualiyakoub/Attention-is-all-you-need/blob/main/1.%20Attention%20Is%20All%20You%20Need%20Paper/pic/encoder_block.png?raw=1\" width=\"500\"/>\n",
        "</div>"
      ]
    },
    {
      "cell_type": "markdown",
      "metadata": {
        "id": "S7Yc_FnvDNx4"
      },
      "source": [
        "Since a two-layer feed forward neural network is used in multiple places in the transformer, here's a function which creates and returns one."
      ]
    },
    {
      "cell_type": "code",
      "execution_count": 101,
      "metadata": {
        "id": "mN5B0vduMM9a"
      },
      "outputs": [],
      "source": [
        "def feed_forward_network(d_model, hidden_dim):\n",
        "  return tf.keras.Sequential([\n",
        "      tf.keras.layers.Dense(hidden_dim, activation='relu'),\n",
        "      tf.keras.layers.Dense(d_model)\n",
        "  ])"
      ]
    },
    {
      "cell_type": "markdown",
      "metadata": {
        "id": "4FrRAMJFDnVQ"
      },
      "source": [
        "This is our encoder block containing all the layers and steps from the preceding illustration (plus dropout)."
      ]
    },
    {
      "cell_type": "code",
      "execution_count": 102,
      "metadata": {
        "id": "q8uu0mISAb0n"
      },
      "outputs": [],
      "source": [
        "class EncoderBlock(tf.keras.layers.Layer):\n",
        "  def __init__(self, d_model, num_heads, hidden_dim, dropout_rate=0.1):\n",
        "    super(EncoderBlock, self).__init__()\n",
        "\n",
        "    self.mhsa = MultiHeadSelfAttention(d_model, num_heads)\n",
        "    self.ffn = feed_forward_network(d_model, hidden_dim)\n",
        "\n",
        "    self.dropout1 = tf.keras.layers.Dropout(dropout_rate)\n",
        "    self.dropout2 = tf.keras.layers.Dropout(dropout_rate)\n",
        "\n",
        "    self.layernorm1 = tf.keras.layers.LayerNormalization()\n",
        "    self.layernorm2 = tf.keras.layers.LayerNormalization()\n",
        "\n",
        "  def call(self, x, training, mask):\n",
        "    mhsa_output, attn_weights = self.mhsa(x, x, x, mask=mask)\n",
        "    mhsa_output = self.dropout1(mhsa_output, training=training)\n",
        "    mhsa_output = self.layernorm1(x + mhsa_output)\n",
        "\n",
        "    ffn_output = self.ffn(mhsa_output)\n",
        "    ffn_output = self.dropout2(ffn_output, training=training)\n",
        "    output = self.layernorm2(mhsa_output + ffn_output)\n",
        "\n",
        "    return output, attn_weights\n"
      ]
    },
    {
      "cell_type": "markdown",
      "metadata": {
        "id": "q3_2uXRBFBEY"
      },
      "source": [
        "Suppose we have an embedding dimension of 12, and we want 3 attention heads and a feed forward network with a hidden dimension of 48 (4x the embedding dimension). We would declare and use a single encoder block like so:"
      ]
    },
    {
      "cell_type": "code",
      "execution_count": 103,
      "metadata": {
        "id": "vBnumPJ7C7Jj",
        "colab": {
          "base_uri": "https://localhost:8080/"
        },
        "outputId": "0095420f-53d9-4ede-cd39-9fc9d343980b"
      },
      "outputs": [
        {
          "output_type": "stream",
          "name": "stdout",
          "text": [
            "Output from single encoder block (1, 3, 12):\n",
            "tf.Tensor(\n",
            "[[[ 1.1176243  -0.0868856  -0.6481668   0.5764882  -0.4230999\n",
            "    0.19738159 -0.7557271   0.72194445 -1.9913605   2.0848377\n",
            "   -0.5503276  -0.24270874]\n",
            "  [ 1.0540625   0.9510841  -0.9140223   1.0893008   0.39611056\n",
            "    0.30703992 -1.2452945   0.7734767  -1.7457588   0.5896942\n",
            "   -1.4558834   0.20018998]\n",
            "  [ 1.5350673  -0.5104299  -0.15841521  0.33517894  0.9873435\n",
            "   -0.15205733 -0.68545043  0.8951303  -2.0789797   1.2626112\n",
            "   -0.8403023  -0.5896963 ]]], shape=(1, 3, 12), dtype=float32)\n"
          ]
        }
      ],
      "source": [
        "encoder_block = EncoderBlock(12, 3, 48)\n",
        "\n",
        "block_output,  _ = encoder_block(x, training=True, mask=None)\n",
        "print(f\"Output from single encoder block {block_output.shape}:\")\n",
        "print(block_output)"
      ]
    },
    {
      "cell_type": "markdown",
      "metadata": {
        "id": "I5z32v2QKYdy"
      },
      "source": [
        "## Word and Positional Embeddings"
      ]
    },
    {
      "cell_type": "markdown",
      "metadata": {
        "id": "S4NuyQpYGBUo"
      },
      "source": [
        "Let's now deal with the actual input to the **initial** encoder block. The inputs are going to be *positional word embeddings*. That is, word embeddings with some positional information added to them.\n",
        "<br>\n",
        "\n",
        "Let's start with **subword** tokenization. For demonstration, we'll use a subword tokenizer called **BPEmb**. It uses **Byte-Pair Encoding** and supports over two hundred languages.\n",
        "\n",
        "https://bpemb.h-its.org/\n"
      ]
    },
    {
      "cell_type": "code",
      "execution_count": 104,
      "metadata": {
        "id": "nmMOHYDEKdvQ"
      },
      "outputs": [],
      "source": [
        "# Load the English tokenizer.\n",
        "bpemb_en = BPEmb(lang=\"en\")"
      ]
    },
    {
      "cell_type": "markdown",
      "metadata": {
        "id": "uAjjB6ykHHyQ"
      },
      "source": [
        "The library comes with embeddings for a number of words."
      ]
    },
    {
      "cell_type": "code",
      "execution_count": 105,
      "metadata": {
        "id": "FhtnbTmdH6jU",
        "colab": {
          "base_uri": "https://localhost:8080/"
        },
        "outputId": "c5dbcaae-373e-451f-9274-b3827f7dab23"
      },
      "outputs": [
        {
          "output_type": "stream",
          "name": "stdout",
          "text": [
            "Vocabulary size: 10000\n",
            "Embedding size: 100\n"
          ]
        }
      ],
      "source": [
        "bpemb_vocab_size, bpemb_embed_size = bpemb_en.vectors.shape\n",
        "print(\"Vocabulary size:\", bpemb_vocab_size)\n",
        "print(\"Embedding size:\", bpemb_embed_size)"
      ]
    },
    {
      "cell_type": "code",
      "execution_count": 106,
      "metadata": {
        "id": "vKvODSJDIdt0",
        "colab": {
          "base_uri": "https://localhost:8080/"
        },
        "outputId": "4777944e-9877-4d21-d07e-773b520555ad"
      },
      "outputs": [
        {
          "output_type": "execute_result",
          "data": {
            "text/plain": [
              "array([-0.305548, -0.325598, -0.134716, -0.078735, -0.660545,  0.076211,\n",
              "       -0.735487,  0.124533, -0.294402,  0.459688,  0.030137,  0.174041,\n",
              "       -0.224223,  0.486189, -0.504649, -0.459699,  0.315747,  0.477885,\n",
              "        0.091398,  0.427867,  0.016524, -0.076833, -0.899727,  0.493158,\n",
              "       -0.022309, -0.422785, -0.154148,  0.204981,  0.379834,  0.070588,\n",
              "        0.196073, -0.368222,  0.473406,  0.007409,  0.004303, -0.007823,\n",
              "       -0.19103 , -0.202509,  0.109878, -0.224521, -0.35741 , -0.611633,\n",
              "        0.329958, -0.212956, -0.497499, -0.393839, -0.130101, -0.216903,\n",
              "       -0.105595, -0.076007, -0.483942, -0.139704, -0.161647,  0.136985,\n",
              "        0.415363, -0.360143,  0.038601, -0.078804, -0.030421,  0.324129,\n",
              "        0.223378, -0.523636, -0.048317, -0.032248, -0.117367,  0.470519,\n",
              "        0.225816, -0.222065, -0.225007, -0.165904, -0.334389, -0.20157 ,\n",
              "        0.572352, -0.268794,  0.301929, -0.005563,  0.387491,  0.261031,\n",
              "       -0.11613 ,  0.074982, -0.008433,  0.259987, -0.099893, -0.268875,\n",
              "       -0.054047, -0.534776, -0.111101, -0.051742,  0.214114,  0.04293 ,\n",
              "        0.039873, -0.453112,  0.087382, -0.333201, -0.034079, -0.833045,\n",
              "        0.155232, -1.132393, -0.294766,  0.327572], dtype=float32)"
            ]
          },
          "metadata": {},
          "execution_count": 106
        }
      ],
      "source": [
        "# Embedding for the word \"car\".\n",
        "bpemb_en.vectors[bpemb_en.words.index('car')]"
      ]
    },
    {
      "cell_type": "markdown",
      "metadata": {
        "id": "YZ7wTWoUI4Zz"
      },
      "source": [
        "We don't need the embeddings since we're going to use our own embedding layer. What we're interested in are the subword tokens and their respective ids. The ids will be used as indexes into our embedding layer.<br>"
      ]
    },
    {
      "cell_type": "markdown",
      "metadata": {
        "id": "JnW_aHliJdRD"
      },
      "source": [
        "These are the subword tokens for our example sentence from the slides. **BPEmb** places underscores in front of any tokens which are whole words or intended to begin words.<br>\n",
        "\n",
        "Remember that subword tokenizers are trained using count frequencies over a corpus. So these subword tokens are specific to **BPEmb**. Another subword tokenizer may output something different. This is why it's important that when we use a pretrained model, we make sure to use the pretrained model's tokenizer. We'll see this when we use pretrained transformers later in this module."
      ]
    },
    {
      "cell_type": "code",
      "execution_count": 107,
      "metadata": {
        "id": "AIgpfG3hKjbZ",
        "colab": {
          "base_uri": "https://localhost:8080/"
        },
        "outputId": "6bdff206-d03f-42cd-fa44-b4adf97ffa1c"
      },
      "outputs": [
        {
          "output_type": "stream",
          "name": "stdout",
          "text": [
            "['▁where', '▁can', '▁i', '▁find', '▁a', '▁p', 'iz', 'zer', 'ia', '?']\n"
          ]
        }
      ],
      "source": [
        "sample_sentence = \"Where can I find a pizzeria?\"\n",
        "tokens = bpemb_en.encode(sample_sentence)\n",
        "print(tokens)"
      ]
    },
    {
      "cell_type": "markdown",
      "metadata": {
        "id": "-WIjAEwLKwwh"
      },
      "source": [
        "We can retrieve each subword token's respective id using the *encode_ids* method."
      ]
    },
    {
      "cell_type": "code",
      "execution_count": 108,
      "metadata": {
        "id": "grMR-DHEKjWx",
        "colab": {
          "base_uri": "https://localhost:8080/"
        },
        "outputId": "1f0c3335-64d3-4850-d3e2-8ac0c8c795de"
      },
      "outputs": [
        {
          "output_type": "stream",
          "name": "stdout",
          "text": [
            "[ 571  280  386 1934    4   24  248 4339  177 9967]\n"
          ]
        }
      ],
      "source": [
        "token_seq = np.array(bpemb_en.encode_ids(\"Where can I find a pizzeria?\"))\n",
        "print(token_seq)"
      ]
    },
    {
      "cell_type": "markdown",
      "metadata": {
        "id": "Mqz7PY5nSGiW"
      },
      "source": [
        "Now that we have a way to tokenize and vectorize sentences, we can declare and use an embedding layer with the same vocabulary size as **BPEmb** and a desired embedding size."
      ]
    },
    {
      "cell_type": "code",
      "execution_count": 109,
      "metadata": {
        "id": "UO7eOOrWKjSc",
        "colab": {
          "base_uri": "https://localhost:8080/"
        },
        "outputId": "b886900c-448c-4194-e23c-176bfdc81604"
      },
      "outputs": [
        {
          "output_type": "stream",
          "name": "stdout",
          "text": [
            "Embeddings for:  Where can I find a pizzeria?\n",
            "tf.Tensor(\n",
            "[[-0.01327326 -0.01017855 -0.02066456  0.02657075 -0.02569367  0.00632077\n",
            "  -0.04273451 -0.04425365  0.01838433  0.00137855  0.00076794 -0.0020627 ]\n",
            " [-0.00814817  0.01944372 -0.00027491 -0.02275245  0.00209203 -0.04899383\n",
            "  -0.03662769  0.00645707  0.04375986  0.0152767   0.00136011  0.02722396]\n",
            " [-0.04608799  0.04308565 -0.03497688 -0.00121663 -0.04987511  0.00034027\n",
            "   0.0347109   0.01670711  0.00784076  0.02125475  0.02898685  0.04047329]\n",
            " [-0.00551502  0.03952031  0.04245657  0.00645719 -0.02366608 -0.02773635\n",
            "  -0.01461071 -0.02907307 -0.00964286 -0.04066302  0.02770874 -0.03161144]\n",
            " [-0.03092362  0.04348184 -0.03477585  0.00761949  0.03696151  0.03384955\n",
            "  -0.04752473 -0.04417132 -0.03825296 -0.02933741  0.00465336 -0.03130996]\n",
            " [ 0.01258698  0.0067548  -0.02318536  0.04668101  0.03536225  0.0319347\n",
            "   0.03931178  0.00799087 -0.00249125 -0.00519902 -0.01224021 -0.03285204]\n",
            " [ 0.02702895  0.02985645 -0.00750583  0.00866572 -0.04885261 -0.01214441\n",
            "   0.02974394 -0.00862539 -0.01832598 -0.01753207  0.02940601 -0.02035385]\n",
            " [ 0.00220878 -0.01819961  0.03956263 -0.00482056  0.03475708 -0.03362197\n",
            "  -0.04959572 -0.02123132 -0.00722078  0.03911884  0.03402433 -0.01828633]\n",
            " [-0.00552922  0.00892801  0.01213378  0.00329931 -0.00542376 -0.0341505\n",
            "  -0.03143543  0.01670622  0.03388644  0.01845883 -0.03167401 -0.03311658]\n",
            " [-0.01715888 -0.03355191  0.03817909 -0.00236724  0.04220453  0.03612635\n",
            "   0.00497689  0.00838654  0.03440023 -0.02300755 -0.04367632  0.01002412]], shape=(10, 12), dtype=float32)\n"
          ]
        }
      ],
      "source": [
        "token_embed = tf.keras.layers.Embedding(bpemb_vocab_size, embed_dim)\n",
        "token_embeddings = token_embed(token_seq)\n",
        "\n",
        "# The untrained embeddings for our sample sentence.\n",
        "print(\"Embeddings for: \", sample_sentence)\n",
        "print(token_embeddings)"
      ]
    },
    {
      "cell_type": "markdown",
      "metadata": {
        "id": "20Bg_sB5TzEE"
      },
      "source": [
        "Next, we need to add *positional* information to each token embedding. As we covered in the slides, the original paper used sinusoidals but it's more common these days to just use another set of embeddings. We'll do the latter here.<br>\n",
        "\n",
        "Here, we're declaring an embedding layer with rows equalling a maximum sequence length and columns equalling our token embedding size. We then generate a vector of position ids."
      ]
    },
    {
      "cell_type": "code",
      "execution_count": 110,
      "metadata": {
        "id": "pcurqcv3KjNY",
        "colab": {
          "base_uri": "https://localhost:8080/"
        },
        "outputId": "94264604-7d0f-445d-acdb-0dd5d60e7404"
      },
      "outputs": [
        {
          "output_type": "stream",
          "name": "stdout",
          "text": [
            "tf.Tensor([0 1 2 3 4 5 6 7 8 9], shape=(10,), dtype=int32)\n"
          ]
        }
      ],
      "source": [
        "max_seq_len = 256\n",
        "pos_embed = tf.keras.layers.Embedding(max_seq_len, embed_dim)\n",
        "\n",
        "# Generate ids for each position of the token sequence.\n",
        "pos_idx = tf.range(len(token_seq))\n",
        "print(pos_idx)"
      ]
    },
    {
      "cell_type": "markdown",
      "metadata": {
        "id": "z4jK-iJP4Fve"
      },
      "source": [
        "We'll use these position ids to index into the positional embedding layer."
      ]
    },
    {
      "cell_type": "code",
      "execution_count": 111,
      "metadata": {
        "id": "6vIgau8YMTgi",
        "colab": {
          "base_uri": "https://localhost:8080/"
        },
        "outputId": "4dd4119f-2d51-49bf-e5d0-73ac4b6a5af0"
      },
      "outputs": [
        {
          "output_type": "stream",
          "name": "stdout",
          "text": [
            "Position embeddings for the input sequence\n",
            " tf.Tensor(\n",
            "[[-0.03963637 -0.04204594  0.02489932  0.0385805   0.00693009  0.03903357\n",
            "  -0.01129876  0.04942553 -0.00418737  0.02762145 -0.03317753  0.01927267]\n",
            " [-0.01136623  0.02414629  0.02556327 -0.04535156  0.00530325  0.03580023\n",
            "   0.04164941 -0.01535302 -0.04659935 -0.03705139  0.01586578 -0.04142201]\n",
            " [ 0.01792503 -0.0346771  -0.04305955  0.02828251  0.00736285  0.04626873\n",
            "  -0.04120122 -0.0100264   0.00483947  0.01425353 -0.0138227   0.04550341]\n",
            " [ 0.01445282 -0.01102936 -0.03085283 -0.0350817  -0.00785683  0.00040257\n",
            "   0.0344961  -0.01176101  0.00196458  0.03947881 -0.04884348  0.03268308]\n",
            " [-0.01659729  0.02240426  0.01816011  0.03862705 -0.04475918  0.00696085\n",
            "  -0.04524432  0.02315936  0.02162952 -0.0044598   0.04664299 -0.04124485]\n",
            " [ 0.03516365  0.02513752  0.03504122  0.0012566  -0.02159182  0.02019883\n",
            "  -0.0114519  -0.02247277  0.00727206  0.02733849 -0.00463139  0.0395881 ]\n",
            " [ 0.02896013  0.01045686 -0.03674661  0.02118373  0.04368852  0.00389437\n",
            "   0.01383177  0.00905372  0.04918069 -0.04733027 -0.04874397 -0.01137402]\n",
            " [ 0.00742438  0.00621068  0.03443122 -0.01025901  0.01900638 -0.00965428\n",
            "  -0.01940932  0.00993322  0.02003549  0.02546778  0.03735591 -0.04126919]\n",
            " [ 0.02777504  0.016805   -0.00794747 -0.01263325 -0.01045851 -0.04615743\n",
            "   0.02988155  0.00037192  0.00883234  0.0212711   0.03705556 -0.04827167]\n",
            " [ 0.04681525 -0.048407   -0.0316435   0.02291531  0.02413766 -0.02074796\n",
            "  -0.02516474  0.00441133  0.02288102 -0.02279019  0.04426577  0.04179488]], shape=(10, 12), dtype=float32)\n"
          ]
        }
      ],
      "source": [
        "# These are our positon embeddings.\n",
        "position_embeddings = pos_embed(pos_idx)\n",
        "print(\"Position embeddings for the input sequence\\n\", position_embeddings)"
      ]
    },
    {
      "cell_type": "markdown",
      "metadata": {
        "id": "UC6V2IodUhbH"
      },
      "source": [
        "The final step is to add our token and position embeddings. The result will be the input to the first encoder block."
      ]
    },
    {
      "cell_type": "code",
      "execution_count": 112,
      "metadata": {
        "id": "K6x9JVlTKjIi",
        "colab": {
          "base_uri": "https://localhost:8080/"
        },
        "outputId": "27c5067e-09ac-4b66-ad2c-bb37ff052cca"
      },
      "outputs": [
        {
          "output_type": "stream",
          "name": "stdout",
          "text": [
            "Input to the initial encoder block:\n",
            " tf.Tensor(\n",
            "[[-0.05290964 -0.05222449  0.00423475  0.06515125 -0.01876358  0.04535434\n",
            "  -0.05403328  0.00517188  0.01419696  0.029      -0.0324096   0.01720997]\n",
            " [-0.0195144   0.04359001  0.02528837 -0.06810401  0.00739528 -0.0131936\n",
            "   0.00502172 -0.00889596 -0.0028395  -0.02177469  0.01722588 -0.01419805]\n",
            " [-0.02816296  0.00840855 -0.07803643  0.02706588 -0.04251225  0.046609\n",
            "  -0.00649033  0.00668072  0.01268023  0.03550828  0.01516415  0.0859767 ]\n",
            " [ 0.0089378   0.02849095  0.01160374 -0.02862451 -0.03152292 -0.02733378\n",
            "   0.01988539 -0.04083408 -0.00767828 -0.0011842  -0.02113475  0.00107164]\n",
            " [-0.04752091  0.0658861  -0.01661574  0.04624654 -0.00779767  0.0408104\n",
            "  -0.09276906 -0.02101196 -0.01662344 -0.0337972   0.05129635 -0.07255481]\n",
            " [ 0.04775063  0.03189232  0.01185586  0.04793761  0.01377043  0.05213353\n",
            "   0.02785988 -0.0144819   0.00478082  0.02213948 -0.0168716   0.00673606]\n",
            " [ 0.05598909  0.04031331 -0.04425244  0.02984945 -0.00516409 -0.00825004\n",
            "   0.04357571  0.00042833  0.03085471 -0.06486234 -0.01933796 -0.03172787]\n",
            " [ 0.00963316 -0.01198893  0.07399385 -0.01507957  0.05376346 -0.04327625\n",
            "  -0.06900505 -0.0112981   0.01281471  0.06458662  0.07138024 -0.05955552]\n",
            " [ 0.02224581  0.02573302  0.00418631 -0.00933395 -0.01588227 -0.08030793\n",
            "  -0.00155388  0.01707814  0.04271878  0.03972993  0.00538155 -0.08138825]\n",
            " [ 0.02965637 -0.0819589   0.00653559  0.02054808  0.0663422   0.01537839\n",
            "  -0.02018785  0.01279787  0.05728125 -0.04579774  0.00058946  0.051819  ]], shape=(10, 12), dtype=float32)\n"
          ]
        }
      ],
      "source": [
        "input = token_embeddings + position_embeddings\n",
        "print(\"Input to the initial encoder block:\\n\", input)"
      ]
    },
    {
      "cell_type": "markdown",
      "metadata": {
        "id": "LDctrWODMNG4"
      },
      "source": [
        "## Encoder"
      ]
    },
    {
      "cell_type": "markdown",
      "metadata": {
        "id": "LmV5KuIXWSUr"
      },
      "source": [
        "Now that we have an encoder block and a way to embed our tokens with position information, we can create the **encoder** itself.<br>\n",
        "\n",
        "Given a batch of vectorized sequences, the encoder creates positional embeddings, runs them through its encoder blocks, and returns contextualized tokens."
      ]
    },
    {
      "cell_type": "code",
      "execution_count": 126,
      "metadata": {
        "id": "NinUihSpC6K-"
      },
      "outputs": [],
      "source": [
        "class Encoder(tf.keras.layers.Layer):\n",
        "  def __init__(self, num_blocks, d_model, num_heads, hidden_dim, src_vocab_size,\n",
        "               max_seq_len, dropout_rate=0.1):\n",
        "    super(Encoder, self).__init__()\n",
        "\n",
        "    self.d_model = d_model\n",
        "    self.max_seq_len = max_seq_len\n",
        "\n",
        "    self.token_embed = tf.keras.layers.Embedding(src_vocab_size, self.d_model)\n",
        "    self.pos_embed = tf.keras.layers.Embedding(max_seq_len, self.d_model)\n",
        "\n",
        "    # The original Attention Is All You Need paper applied dropout to the\n",
        "    # input before feeding it to the first encoder block.\n",
        "    self.dropout = tf.keras.layers.Dropout(dropout_rate)\n",
        "\n",
        "    # Create encoder blocks.\n",
        "    self.blocks = [EncoderBlock(self.d_model, num_heads, hidden_dim, dropout_rate)\n",
        "    for _ in range(num_blocks)]\n",
        "\n",
        "  def call(self, input, training=None, mask=None):\n",
        "    token_embeds = self.token_embed(input)\n",
        "\n",
        "    # Generate position indices for a batch of input sequences.\n",
        "    num_pos = input.shape[0] * self.max_seq_len\n",
        "    pos_idx = np.resize(np.arange(self.max_seq_len), num_pos)\n",
        "    pos_idx = np.reshape(pos_idx, input.shape)\n",
        "    pos_embeds = self.pos_embed(pos_idx)\n",
        "\n",
        "    x = self.dropout(token_embeds + pos_embeds, training=training)\n",
        "\n",
        "    # Run input through successive encoder blocks.\n",
        "    for block in self.blocks:\n",
        "      x, weights = block(x, training=training, mask=mask)\n",
        "\n",
        "    return x, weights"
      ]
    },
    {
      "cell_type": "markdown",
      "metadata": {
        "id": "xb7v8lKuYTT6"
      },
      "source": [
        "If you're wondering about this code block here:\n",
        "\n",
        "\n",
        "```\n",
        "num_pos = input.shape[0] * self.max_seq_len\n",
        "pos_idx = np.resize(np.arange(self.max_seq_len), num_pos)\n",
        "pos_idx = np.reshape(pos_idx, input.shape)\n",
        "pos_embeds = self.pos_embed(pos_idx)\n",
        "```\n",
        "\n",
        "\n",
        "This generates positional embeddings for a *batch* of input sequences. Suppose this was our batch of input sequences to the encoder."
      ]
    },
    {
      "cell_type": "code",
      "execution_count": 127,
      "metadata": {
        "id": "Cllud1-mJhNi",
        "colab": {
          "base_uri": "https://localhost:8080/"
        },
        "outputId": "ade4fac8-fda3-43b5-ede0-cac78ad523c5"
      },
      "outputs": [
        {
          "output_type": "stream",
          "name": "stdout",
          "text": [
            "(3, 10)\n",
            "[[8540  699 3882 8104 1461 4601  380 5310 3532 6410]\n",
            " [8637 6754 3395 9796 3691 4747 2846 7201 4847 5162]\n",
            " [9285 8486 7357 3925 4899 5414 3704 5505 9395 7846]]\n"
          ]
        }
      ],
      "source": [
        "# Batch of 3 sequences, each of length 10 (10 is also the\n",
        "# maximum sequence length in this case).\n",
        "seqs = np.random.randint(0, 10000, size=(3, 10))\n",
        "print(seqs.shape)\n",
        "print(seqs)"
      ]
    },
    {
      "cell_type": "markdown",
      "metadata": {
        "id": "DUjolKY8ZC-6"
      },
      "source": [
        "We need to retrieve a positional embedding for every element in this batch. The first step is to create the respective positional ids..."
      ]
    },
    {
      "cell_type": "code",
      "execution_count": 128,
      "metadata": {
        "id": "WgfMkY6fk4I4",
        "colab": {
          "base_uri": "https://localhost:8080/"
        },
        "outputId": "0e0b22d8-4073-4a7f-ee55-a27e9126e132"
      },
      "outputs": [
        {
          "output_type": "stream",
          "name": "stdout",
          "text": [
            "[0 1 2 3 4 5 6 7 8 9 0 1 2 3 4 5 6 7 8 9 0 1 2 3 4 5 6 7 8 9]\n"
          ]
        }
      ],
      "source": [
        "pos_ids = np.resize(np.arange(seqs.shape[1]), seqs.shape[0] * seqs.shape[1])\n",
        "print(pos_ids)"
      ]
    },
    {
      "cell_type": "markdown",
      "metadata": {
        "id": "5OMssAJLZbAg"
      },
      "source": [
        "...and then reshape them to match the input batch dimensions."
      ]
    },
    {
      "cell_type": "code",
      "execution_count": 129,
      "metadata": {
        "id": "ah0t-pZznGWt",
        "colab": {
          "base_uri": "https://localhost:8080/"
        },
        "outputId": "3f3cdbbe-9dd2-4eff-f431-d63e4a05b37e"
      },
      "outputs": [
        {
          "output_type": "stream",
          "name": "stdout",
          "text": [
            "(3, 10)\n",
            "[[0 1 2 3 4 5 6 7 8 9]\n",
            " [0 1 2 3 4 5 6 7 8 9]\n",
            " [0 1 2 3 4 5 6 7 8 9]]\n"
          ]
        }
      ],
      "source": [
        "pos_ids = np.reshape(pos_ids, (3, 10))\n",
        "print(pos_ids.shape)\n",
        "print(pos_ids)"
      ]
    },
    {
      "cell_type": "markdown",
      "metadata": {
        "id": "TphnVF8_ZxzL"
      },
      "source": [
        "We can now retrieve position embeddings for every token embedding."
      ]
    },
    {
      "cell_type": "code",
      "execution_count": 130,
      "metadata": {
        "id": "cAODAGYAwpAr",
        "colab": {
          "base_uri": "https://localhost:8080/"
        },
        "outputId": "12766f94-24f2-49c8-d9b6-01c214f27dc4"
      },
      "outputs": [
        {
          "output_type": "execute_result",
          "data": {
            "text/plain": [
              "<tf.Tensor: shape=(3, 10, 12), dtype=float32, numpy=\n",
              "array([[[-0.03963637, -0.04204594,  0.02489932,  0.0385805 ,\n",
              "          0.00693009,  0.03903357, -0.01129876,  0.04942553,\n",
              "         -0.00418737,  0.02762145, -0.03317753,  0.01927267],\n",
              "        [-0.01136623,  0.02414629,  0.02556327, -0.04535156,\n",
              "          0.00530325,  0.03580023,  0.04164941, -0.01535302,\n",
              "         -0.04659935, -0.03705139,  0.01586578, -0.04142201],\n",
              "        [ 0.01792503, -0.0346771 , -0.04305955,  0.02828251,\n",
              "          0.00736285,  0.04626873, -0.04120122, -0.0100264 ,\n",
              "          0.00483947,  0.01425353, -0.0138227 ,  0.04550341],\n",
              "        [ 0.01445282, -0.01102936, -0.03085283, -0.0350817 ,\n",
              "         -0.00785683,  0.00040257,  0.0344961 , -0.01176101,\n",
              "          0.00196458,  0.03947881, -0.04884348,  0.03268308],\n",
              "        [-0.01659729,  0.02240426,  0.01816011,  0.03862705,\n",
              "         -0.04475918,  0.00696085, -0.04524432,  0.02315936,\n",
              "          0.02162952, -0.0044598 ,  0.04664299, -0.04124485],\n",
              "        [ 0.03516365,  0.02513752,  0.03504122,  0.0012566 ,\n",
              "         -0.02159182,  0.02019883, -0.0114519 , -0.02247277,\n",
              "          0.00727206,  0.02733849, -0.00463139,  0.0395881 ],\n",
              "        [ 0.02896013,  0.01045686, -0.03674661,  0.02118373,\n",
              "          0.04368852,  0.00389437,  0.01383177,  0.00905372,\n",
              "          0.04918069, -0.04733027, -0.04874397, -0.01137402],\n",
              "        [ 0.00742438,  0.00621068,  0.03443122, -0.01025901,\n",
              "          0.01900638, -0.00965428, -0.01940932,  0.00993322,\n",
              "          0.02003549,  0.02546778,  0.03735591, -0.04126919],\n",
              "        [ 0.02777504,  0.016805  , -0.00794747, -0.01263325,\n",
              "         -0.01045851, -0.04615743,  0.02988155,  0.00037192,\n",
              "          0.00883234,  0.0212711 ,  0.03705556, -0.04827167],\n",
              "        [ 0.04681525, -0.048407  , -0.0316435 ,  0.02291531,\n",
              "          0.02413766, -0.02074796, -0.02516474,  0.00441133,\n",
              "          0.02288102, -0.02279019,  0.04426577,  0.04179488]],\n",
              "\n",
              "       [[-0.03963637, -0.04204594,  0.02489932,  0.0385805 ,\n",
              "          0.00693009,  0.03903357, -0.01129876,  0.04942553,\n",
              "         -0.00418737,  0.02762145, -0.03317753,  0.01927267],\n",
              "        [-0.01136623,  0.02414629,  0.02556327, -0.04535156,\n",
              "          0.00530325,  0.03580023,  0.04164941, -0.01535302,\n",
              "         -0.04659935, -0.03705139,  0.01586578, -0.04142201],\n",
              "        [ 0.01792503, -0.0346771 , -0.04305955,  0.02828251,\n",
              "          0.00736285,  0.04626873, -0.04120122, -0.0100264 ,\n",
              "          0.00483947,  0.01425353, -0.0138227 ,  0.04550341],\n",
              "        [ 0.01445282, -0.01102936, -0.03085283, -0.0350817 ,\n",
              "         -0.00785683,  0.00040257,  0.0344961 , -0.01176101,\n",
              "          0.00196458,  0.03947881, -0.04884348,  0.03268308],\n",
              "        [-0.01659729,  0.02240426,  0.01816011,  0.03862705,\n",
              "         -0.04475918,  0.00696085, -0.04524432,  0.02315936,\n",
              "          0.02162952, -0.0044598 ,  0.04664299, -0.04124485],\n",
              "        [ 0.03516365,  0.02513752,  0.03504122,  0.0012566 ,\n",
              "         -0.02159182,  0.02019883, -0.0114519 , -0.02247277,\n",
              "          0.00727206,  0.02733849, -0.00463139,  0.0395881 ],\n",
              "        [ 0.02896013,  0.01045686, -0.03674661,  0.02118373,\n",
              "          0.04368852,  0.00389437,  0.01383177,  0.00905372,\n",
              "          0.04918069, -0.04733027, -0.04874397, -0.01137402],\n",
              "        [ 0.00742438,  0.00621068,  0.03443122, -0.01025901,\n",
              "          0.01900638, -0.00965428, -0.01940932,  0.00993322,\n",
              "          0.02003549,  0.02546778,  0.03735591, -0.04126919],\n",
              "        [ 0.02777504,  0.016805  , -0.00794747, -0.01263325,\n",
              "         -0.01045851, -0.04615743,  0.02988155,  0.00037192,\n",
              "          0.00883234,  0.0212711 ,  0.03705556, -0.04827167],\n",
              "        [ 0.04681525, -0.048407  , -0.0316435 ,  0.02291531,\n",
              "          0.02413766, -0.02074796, -0.02516474,  0.00441133,\n",
              "          0.02288102, -0.02279019,  0.04426577,  0.04179488]],\n",
              "\n",
              "       [[-0.03963637, -0.04204594,  0.02489932,  0.0385805 ,\n",
              "          0.00693009,  0.03903357, -0.01129876,  0.04942553,\n",
              "         -0.00418737,  0.02762145, -0.03317753,  0.01927267],\n",
              "        [-0.01136623,  0.02414629,  0.02556327, -0.04535156,\n",
              "          0.00530325,  0.03580023,  0.04164941, -0.01535302,\n",
              "         -0.04659935, -0.03705139,  0.01586578, -0.04142201],\n",
              "        [ 0.01792503, -0.0346771 , -0.04305955,  0.02828251,\n",
              "          0.00736285,  0.04626873, -0.04120122, -0.0100264 ,\n",
              "          0.00483947,  0.01425353, -0.0138227 ,  0.04550341],\n",
              "        [ 0.01445282, -0.01102936, -0.03085283, -0.0350817 ,\n",
              "         -0.00785683,  0.00040257,  0.0344961 , -0.01176101,\n",
              "          0.00196458,  0.03947881, -0.04884348,  0.03268308],\n",
              "        [-0.01659729,  0.02240426,  0.01816011,  0.03862705,\n",
              "         -0.04475918,  0.00696085, -0.04524432,  0.02315936,\n",
              "          0.02162952, -0.0044598 ,  0.04664299, -0.04124485],\n",
              "        [ 0.03516365,  0.02513752,  0.03504122,  0.0012566 ,\n",
              "         -0.02159182,  0.02019883, -0.0114519 , -0.02247277,\n",
              "          0.00727206,  0.02733849, -0.00463139,  0.0395881 ],\n",
              "        [ 0.02896013,  0.01045686, -0.03674661,  0.02118373,\n",
              "          0.04368852,  0.00389437,  0.01383177,  0.00905372,\n",
              "          0.04918069, -0.04733027, -0.04874397, -0.01137402],\n",
              "        [ 0.00742438,  0.00621068,  0.03443122, -0.01025901,\n",
              "          0.01900638, -0.00965428, -0.01940932,  0.00993322,\n",
              "          0.02003549,  0.02546778,  0.03735591, -0.04126919],\n",
              "        [ 0.02777504,  0.016805  , -0.00794747, -0.01263325,\n",
              "         -0.01045851, -0.04615743,  0.02988155,  0.00037192,\n",
              "          0.00883234,  0.0212711 ,  0.03705556, -0.04827167],\n",
              "        [ 0.04681525, -0.048407  , -0.0316435 ,  0.02291531,\n",
              "          0.02413766, -0.02074796, -0.02516474,  0.00441133,\n",
              "          0.02288102, -0.02279019,  0.04426577,  0.04179488]]],\n",
              "      dtype=float32)>"
            ]
          },
          "metadata": {},
          "execution_count": 130
        }
      ],
      "source": [
        "pos_embed(pos_ids)"
      ]
    },
    {
      "cell_type": "markdown",
      "metadata": {
        "id": "e-4hBnztXfN5"
      },
      "source": [
        "Let's try our encoder on a batch of sentences."
      ]
    },
    {
      "cell_type": "code",
      "execution_count": 131,
      "metadata": {
        "id": "jbX82NUpwyGL",
        "colab": {
          "base_uri": "https://localhost:8080/"
        },
        "outputId": "ef345ed0-c8b4-449f-88eb-f46cebd98770"
      },
      "outputs": [
        {
          "output_type": "execute_result",
          "data": {
            "text/plain": [
              "[['▁where', '▁can', '▁i', '▁find', '▁a', '▁p', 'iz', 'zer', 'ia', '?'],\n",
              " ['▁mass', '▁hy', 'ster', 'ia', '▁over', '▁l', 'ister', 'ia', '.'],\n",
              " ['▁i', '▁a', 'in', \"'\", 't', '▁no', '▁circle', '▁back', '▁girl', '.']]"
            ]
          },
          "metadata": {},
          "execution_count": 131
        }
      ],
      "source": [
        "input_batch = [\n",
        "    \"Where can I find a pizzeria?\",\n",
        "    \"Mass hysteria over listeria.\",\n",
        "    \"I ain't no circle back girl.\"\n",
        "]\n",
        "\n",
        "bpemb_en.encode(input_batch)"
      ]
    },
    {
      "cell_type": "code",
      "execution_count": 132,
      "metadata": {
        "id": "wOXHqq2Kxh5r",
        "colab": {
          "base_uri": "https://localhost:8080/"
        },
        "outputId": "b6a5499d-b2d4-4b83-9cdf-ea5bf77fcaea"
      },
      "outputs": [
        {
          "output_type": "stream",
          "name": "stdout",
          "text": [
            "Vectorized inputs:\n"
          ]
        },
        {
          "output_type": "execute_result",
          "data": {
            "text/plain": [
              "[[571, 280, 386, 1934, 4, 24, 248, 4339, 177, 9967],\n",
              " [1535, 1354, 1238, 177, 380, 43, 871, 177, 9935],\n",
              " [386, 4, 6, 9937, 9915, 467, 5410, 810, 3692, 9935]]"
            ]
          },
          "metadata": {},
          "execution_count": 132
        }
      ],
      "source": [
        "input_seqs = bpemb_en.encode_ids(input_batch)\n",
        "print(\"Vectorized inputs:\")\n",
        "input_seqs"
      ]
    },
    {
      "cell_type": "markdown",
      "metadata": {
        "id": "EOgoulJTb7Q6"
      },
      "source": [
        "Note how the input sequences aren't the same length in this batch. In this case, we need to pad them out so that they are.\n",
        "\n",
        "We'll do this using *pad_sequences*.<br>\n",
        "https://www.tensorflow.org/api_docs/python/tf/keras/utils/pad_sequences"
      ]
    },
    {
      "cell_type": "code",
      "execution_count": 133,
      "metadata": {
        "id": "np2vsXpwxMS8",
        "colab": {
          "base_uri": "https://localhost:8080/"
        },
        "outputId": "9f653d8b-854e-43b5-c8ef-4aeddd13e770"
      },
      "outputs": [
        {
          "output_type": "stream",
          "name": "stdout",
          "text": [
            "Input to the encoder:\n",
            "(3, 10)\n",
            "[[ 571  280  386 1934    4   24  248 4339  177 9967]\n",
            " [1535 1354 1238  177  380   43  871  177 9935    0]\n",
            " [ 386    4    6 9937 9915  467 5410  810 3692 9935]]\n"
          ]
        }
      ],
      "source": [
        "padded_input_seqs = tf.keras.preprocessing.sequence.pad_sequences(input_seqs, padding=\"post\")\n",
        "print(\"Input to the encoder:\")\n",
        "print(padded_input_seqs.shape)\n",
        "print(padded_input_seqs)"
      ]
    },
    {
      "cell_type": "markdown",
      "metadata": {
        "id": "PqkDdMKJVSa6"
      },
      "source": [
        "Since our input now has padding, now's a good time to cover **masking**.\n",
        "<br>\n",
        "\n",
        "So given a mask, wherever there's a mask position set to 0, the corresponding position in the attention scores will be set to *-inf*. The resulting attention weight for the position will then be zero and no attending will occur for that position.\n",
        "<br>\n",
        "\n",
        "In the slides, we covered *look-ahead* masks for the decoder to prevent it from attending to future tokens, but we also need masks for padding.\n",
        "<br>\n",
        "\n",
        "In total, there are three masks involved:\n",
        "1. The *encoder mask* to mask out any padding in the encoder sequences.\n",
        "\n",
        "2. The *decoder mask* which is used in the decoder's **first** multi-head self-attention layer. It's a <u>combination of two masks</u>: one to account for the padding in target sequences, and the look-ahead mask.\n",
        "\n",
        "3. The *memory mask* which is used in the decoder's **second** multi-head self-attention layer. The keys and values for this layer are going to be the encoder's output, and this mask will ensure the decoder doesn't attend to any encoder output which corresponds to padding. In practice, 1 and 3 are often the same.\n",
        "\n",
        "The *scaled_dot_product_attention* function has this line:\n",
        "```\n",
        "  if mask is not None:\n",
        "    scaled_scores = tf.where(mask==0, -np.inf, scaled_scores)\n",
        "```"
      ]
    },
    {
      "cell_type": "markdown",
      "metadata": {
        "id": "41HyT3jSVq0B"
      },
      "source": [
        "Let's create an encoder mask for our batch of input sequences.<br>\n",
        "\n",
        "Wherever there's padding, we want the mask position set to zero."
      ]
    },
    {
      "cell_type": "code",
      "execution_count": 134,
      "metadata": {
        "id": "AHvAAVhnZouZ",
        "colab": {
          "base_uri": "https://localhost:8080/"
        },
        "outputId": "75561893-9a94-424b-92d1-3b885fdc1a82"
      },
      "outputs": [
        {
          "output_type": "stream",
          "name": "stdout",
          "text": [
            "Input:\n",
            "[[ 571  280  386 1934    4   24  248 4339  177 9967]\n",
            " [1535 1354 1238  177  380   43  871  177 9935    0]\n",
            " [ 386    4    6 9937 9915  467 5410  810 3692 9935]] \n",
            "\n",
            "Encoder mask:\n",
            "tf.Tensor(\n",
            "[[1. 1. 1. 1. 1. 1. 1. 1. 1. 1.]\n",
            " [1. 1. 1. 1. 1. 1. 1. 1. 1. 0.]\n",
            " [1. 1. 1. 1. 1. 1. 1. 1. 1. 1.]], shape=(3, 10), dtype=float32)\n"
          ]
        }
      ],
      "source": [
        "enc_mask = tf.cast(tf.math.not_equal(padded_input_seqs, 0), tf.float32)\n",
        "print(\"Input:\")\n",
        "print(padded_input_seqs, '\\n')\n",
        "print(\"Encoder mask:\")\n",
        "print(enc_mask)"
      ]
    },
    {
      "cell_type": "markdown",
      "metadata": {
        "id": "idqcJwFhZ7zD"
      },
      "source": [
        "Keep in mind that the dimension of the attention matrix (for this example) is going to be:<br>\n",
        "*(batch size, number of heads, query size, key size)*<br>\n",
        "(3, 3, 10, 10)"
      ]
    },
    {
      "cell_type": "markdown",
      "metadata": {
        "id": "vgVXwdwra84q"
      },
      "source": [
        "So we need to expand the mask dimensions like so:"
      ]
    },
    {
      "cell_type": "code",
      "execution_count": 135,
      "metadata": {
        "id": "aYPlbsrvZu8_",
        "colab": {
          "base_uri": "https://localhost:8080/"
        },
        "outputId": "734c2a1d-108c-4104-8a35-a875de1b369b"
      },
      "outputs": [
        {
          "output_type": "execute_result",
          "data": {
            "text/plain": [
              "<tf.Tensor: shape=(3, 1, 1, 10), dtype=float32, numpy=\n",
              "array([[[[1., 1., 1., 1., 1., 1., 1., 1., 1., 1.]]],\n",
              "\n",
              "\n",
              "       [[[1., 1., 1., 1., 1., 1., 1., 1., 1., 0.]]],\n",
              "\n",
              "\n",
              "       [[[1., 1., 1., 1., 1., 1., 1., 1., 1., 1.]]]], dtype=float32)>"
            ]
          },
          "metadata": {},
          "execution_count": 135
        }
      ],
      "source": [
        "enc_mask = enc_mask[:, tf.newaxis, tf.newaxis, :]\n",
        "enc_mask"
      ]
    },
    {
      "cell_type": "markdown",
      "metadata": {
        "id": "nsJEDxNPckz5"
      },
      "source": [
        "This way, the encoder mask will now be *broadcasted*.<br>\n",
        "https://www.tensorflow.org/xla/broadcasting"
      ]
    },
    {
      "cell_type": "markdown",
      "metadata": {
        "id": "X87_VQmiVbSj"
      },
      "source": [
        "Now we can declare an encoder and pass it batches of vectorized sequences."
      ]
    },
    {
      "cell_type": "code",
      "execution_count": 136,
      "metadata": {
        "id": "Ns8G5ujRVQMv"
      },
      "outputs": [],
      "source": [
        "num_encoder_blocks = 6\n",
        "\n",
        "# d_model is the embedding dimension used throughout.\n",
        "d_model = 12\n",
        "\n",
        "num_heads = 3\n",
        "\n",
        "# Feed-forward network hidden dimension width.\n",
        "ffn_hidden_dim = 48\n",
        "\n",
        "src_vocab_size = bpemb_vocab_size\n",
        "max_input_seq_len = padded_input_seqs.shape[1]\n",
        "\n",
        "encoder = Encoder(\n",
        "    num_encoder_blocks,\n",
        "    d_model,\n",
        "    num_heads,\n",
        "    ffn_hidden_dim,\n",
        "    src_vocab_size,\n",
        "    max_input_seq_len)"
      ]
    },
    {
      "cell_type": "markdown",
      "source": [],
      "metadata": {
        "id": "l4-hNOZPCyOw"
      }
    },
    {
      "cell_type": "markdown",
      "metadata": {
        "id": "hGQ6lg3fJhIg"
      },
      "source": [
        "We can now pass our input sequences and mask to the encoder."
      ]
    },
    {
      "cell_type": "code",
      "execution_count": 137,
      "metadata": {
        "id": "rf6q86hBj8eV",
        "colab": {
          "base_uri": "https://localhost:8080/"
        },
        "outputId": "574a56d6-85de-4fa0-e067-b75dbf3806c6"
      },
      "outputs": [
        {
          "output_type": "stream",
          "name": "stdout",
          "text": [
            "Encoder output (3, 10, 12):\n",
            "tf.Tensor(\n",
            "[[[-0.33231628 -0.22362208 -2.2380664   0.05607291  0.73056525\n",
            "   -0.751446   -0.3026732   1.8942666   0.8176175  -0.6552055\n",
            "    0.97250575  0.0323018 ]\n",
            "  [ 0.08985625 -0.16067123 -2.0403652  -0.2906918   0.05954127\n",
            "   -0.6293086  -0.3847365   2.3005133   0.76673275 -0.17724845\n",
            "    0.9898023  -0.52342427]\n",
            "  [ 0.49515298 -0.20049411 -2.418865    1.166448   -0.16037431\n",
            "   -1.1636302   0.24331978  0.730527    0.9133192   0.4839618\n",
            "    0.8075338  -0.89689887]\n",
            "  [ 0.1521135  -0.46373174 -2.0667353   1.3020321  -0.04134262\n",
            "   -0.25867832 -1.1413778   1.7192883   0.76352024 -0.19584723\n",
            "    0.7536985  -0.5229398 ]\n",
            "  [ 0.4872014  -0.24148712 -1.9313676   0.9765346  -0.3503809\n",
            "   -0.92744315 -0.64997387  2.0172946   1.0518029  -0.1584914\n",
            "    0.29461813 -0.5683076 ]\n",
            "  [ 0.07985155 -0.38760275 -2.1478546   1.231245   -0.0412124\n",
            "   -0.5678461  -0.4475841   2.0576181   0.4447183  -0.20920147\n",
            "    0.5893758  -0.6015073 ]\n",
            "  [-0.07914703 -0.35984483 -1.9841175   1.0868081  -0.29577777\n",
            "   -0.76324475 -0.7218701   2.1450794   0.2850276   0.4280478\n",
            "    0.69981587 -0.44077662]\n",
            "  [ 0.22749595 -0.3049876  -2.1022475   1.1224506   0.44376397\n",
            "   -1.0149055  -0.8402785   1.6890156   0.93473583  0.12439977\n",
            "    0.33823842 -0.61768085]\n",
            "  [ 0.0434897  -0.4124041  -2.1048193   1.2438364  -0.2698977\n",
            "   -0.83856255 -0.43075976  1.8139395   0.9245075  -0.02225365\n",
            "    0.6338264  -0.5809024 ]\n",
            "  [ 0.3985527  -0.364594   -1.7272581   1.0602652  -0.2399962\n",
            "   -0.8424433  -0.92709     2.1453938   0.70079106  0.5686835\n",
            "   -0.0304886  -0.7418161 ]]\n",
            "\n",
            " [[ 1.2667572   1.0703897  -0.17567359  1.3519472   0.0577141\n",
            "   -0.8554514  -0.4616417  -1.8213122   0.7718864   0.22505794\n",
            "    0.13659327 -1.5662671 ]\n",
            "  [ 1.9350463  -0.6967811  -0.86778754  0.23274104  0.15166757\n",
            "   -0.5977389  -1.9896253   1.1375519   0.9032931   0.11816044\n",
            "   -0.6307867   0.30425936]\n",
            "  [ 0.16847478  1.5001578  -2.457271    1.1009849   0.09500325\n",
            "   -0.10713121  0.39404625 -1.0190747   0.26948076 -0.7861622\n",
            "    0.1029534   0.738538  ]\n",
            "  [ 1.8989075  -0.15663137 -0.6516168   0.25597692 -0.29419106\n",
            "    0.4706144  -1.4468441   1.9318401  -1.082197    0.09190899\n",
            "   -0.6489539  -0.36881393]\n",
            "  [ 0.5705408  -0.26510367 -2.2418609   0.75752246  0.58351564\n",
            "   -1.6881256   0.13438097  0.7812074   0.46701652  1.2669386\n",
            "    0.19737592 -0.5634081 ]\n",
            "  [ 1.3452036   0.06209771 -0.56125283 -0.74662095  1.4488187\n",
            "   -0.24123079 -1.2365443   0.52244854 -0.6281181   1.7443446\n",
            "   -1.3240378  -0.3851082 ]\n",
            "  [-0.7808832  -0.24496773 -1.820111    0.453528   -0.26869234\n",
            "    0.6643512  -0.5910481   1.4819757  -0.7875378   2.0084984\n",
            "   -0.26150644  0.14639325]\n",
            "  [ 0.96785885 -0.42384052 -0.26363248 -2.0324163   0.5498823\n",
            "   -0.20253716 -1.1496896   1.8836648   0.7259568   0.7555228\n",
            "   -0.53005916 -0.2807101 ]\n",
            "  [ 0.40608376  0.66291595 -1.7416451   2.1420734  -0.3124447\n",
            "   -1.1964442  -0.35397196 -0.2982515   1.3040049  -0.56199723\n",
            "    0.02969397 -0.08001751]\n",
            "  [ 2.255063    0.21114498 -0.25829348 -0.00968932 -0.36023152\n",
            "   -0.5150056  -2.1029584   0.17376533  0.8433432  -0.8764479\n",
            "    0.68216354 -0.04285372]]\n",
            "\n",
            " [[ 0.6326159   0.13793448 -2.0199838   1.2939376  -0.9282333\n",
            "   -0.5843276  -0.59577274  1.006909    1.7340908  -0.30387092\n",
            "    0.01458012 -0.38787976]\n",
            "  [ 0.643064   -0.93122923 -2.1615415   1.0867207   0.09465823\n",
            "   -1.121698   -0.26423082  0.82588387  1.6688933  -0.11587477\n",
            "    0.09259997  0.18275438]\n",
            "  [ 0.8086464  -0.3627605  -1.8754816   1.363805   -0.27190295\n",
            "   -1.1944201  -0.43372378  0.9214842   1.6417466  -0.7638132\n",
            "    0.05373597  0.11268415]\n",
            "  [ 1.5258094  -0.9773126  -2.0440962   1.1084096  -0.39516592\n",
            "   -0.6281736  -0.8689372   0.29258227  1.3190478   0.25418493\n",
            "    0.0994941   0.3141571 ]\n",
            "  [ 1.4605092   0.2980836  -0.7981555   1.5745354  -0.46042442\n",
            "   -1.291987   -0.2574775  -0.97085065  1.6819779  -0.3031018\n",
            "   -0.01353122 -0.9195778 ]\n",
            "  [ 0.36907077 -0.2791563  -1.8443702   1.3235692  -0.21538688\n",
            "   -1.1344635  -0.61866844  1.4256436   1.6011903  -0.4210776\n",
            "    0.13798699 -0.34433752]\n",
            "  [-0.49818784  0.26418233 -1.359964    1.5565178   0.14326361\n",
            "   -1.7428238  -0.36204374  1.7452536   0.9826369  -0.32175946\n",
            "   -0.29579675 -0.11127914]\n",
            "  [ 0.7147804  -0.29864395 -1.5767674   1.4372396  -0.78767663\n",
            "   -0.9245874  -1.1208452   0.9924831   1.671861   -0.42486745\n",
            "    0.3829683  -0.06594433]\n",
            "  [ 0.30288157  0.13732968 -2.2097588   1.4620599  -0.85261637\n",
            "   -0.53815657 -0.3764737   1.2249017   1.3010569  -0.10479726\n",
            "    0.29720932 -0.643636  ]\n",
            "  [ 0.5874743  -0.38764724 -2.1250927   1.4395477  -0.4005482\n",
            "   -1.365164   -0.36016408  0.55313426  1.293063   -0.34482166\n",
            "    0.70010746  0.4101112 ]]], shape=(3, 10, 12), dtype=float32)\n"
          ]
        }
      ],
      "source": [
        "encoder_output, attn_weights = encoder(padded_input_seqs, training=True, mask=enc_mask)\n",
        "print(f\"Encoder output {encoder_output.shape}:\")\n",
        "print(encoder_output)"
      ]
    },
    {
      "cell_type": "markdown",
      "metadata": {
        "id": "24TYaX3zMNAh"
      },
      "source": [
        "## Decoder Block"
      ]
    },
    {
      "cell_type": "markdown",
      "metadata": {
        "id": "uH-5iDDXeU_j"
      },
      "source": [
        "Let's build the **Decoder Block**. Everything we did to create the **encoder** block applies here. The major differences are that the **Decoder Block** has:\n",
        "1. a **Multi-Head Cross-Attention** layer which uses the encoder's outputs as the keys and values.\n",
        "\n",
        "2. an extra skip/residual connection along with an extra layer normalization step.\n",
        "\n",
        "<div>\n",
        "<img src=\"https://github.com/cheroualiyakoub/Attention-is-all-you-need/blob/main/1.%20Attention%20Is%20All%20You%20Need%20Paper/pic/decoder_block.png?raw=1\" width=\"500\"/>\n",
        "</div>"
      ]
    },
    {
      "cell_type": "code",
      "execution_count": 138,
      "metadata": {
        "id": "Hco1IwfutNqD"
      },
      "outputs": [],
      "source": [
        "class DecoderBlock(tf.keras.layers.Layer):\n",
        "  def __init__(self, d_model, num_heads, hidden_dim, dropout_rate=0.1):\n",
        "    super(DecoderBlock, self).__init__()\n",
        "\n",
        "    self.mhsa1 = MultiHeadSelfAttention(d_model, num_heads)\n",
        "    self.mhsa2 = MultiHeadSelfAttention(d_model, num_heads)\n",
        "\n",
        "    self.ffn = feed_forward_network(d_model, hidden_dim)\n",
        "\n",
        "    self.dropout1 = tf.keras.layers.Dropout(dropout_rate)\n",
        "    self.dropout2 = tf.keras.layers.Dropout(dropout_rate)\n",
        "    self.dropout3 = tf.keras.layers.Dropout(dropout_rate)\n",
        "\n",
        "    self.layernorm1 = tf.keras.layers.LayerNormalization()\n",
        "    self.layernorm2 = tf.keras.layers.LayerNormalization()\n",
        "    self.layernorm3 = tf.keras.layers.LayerNormalization()\n",
        "\n",
        "  # Note the decoder block takes two masks. One for the first MHSA, another\n",
        "  # for the second MHSA.\n",
        "  def call(self, encoder_output, target, training, decoder_mask, memory_mask):\n",
        "    mhsa_output1, attn_weights = self.mhsa1(target, target, target, decoder_mask)\n",
        "    mhsa_output1 = self.dropout1(mhsa_output1, training=training)\n",
        "    mhsa_output1 = self.layernorm1(mhsa_output1 + target)\n",
        "\n",
        "    mhsa_output2, attn_weights = self.mhsa2(mhsa_output1, encoder_output,\n",
        "                                            encoder_output,\n",
        "                                            memory_mask)\n",
        "    mhsa_output2 = self.dropout2(mhsa_output2, training=training)\n",
        "    mhsa_output2 = self.layernorm2(mhsa_output2 + mhsa_output1)\n",
        "\n",
        "    ffn_output = self.ffn(mhsa_output2)\n",
        "    ffn_output = self.dropout3(ffn_output, training=training)\n",
        "    output = self.layernorm3(ffn_output + mhsa_output2)\n",
        "\n",
        "    return output, attn_weights\n"
      ]
    },
    {
      "cell_type": "markdown",
      "metadata": {
        "id": "YVstTioxMNDq"
      },
      "source": [
        "## Decoder"
      ]
    },
    {
      "cell_type": "markdown",
      "metadata": {
        "id": "M3iT7wyOi_bv"
      },
      "source": [
        "The decoder is almost the same as the encoder except it takes the encoder's output as part of its input, and it takes two masks: the decoder mask and memory mask."
      ]
    },
    {
      "cell_type": "code",
      "execution_count": 150,
      "metadata": {
        "id": "27zG_wV3MNJ_"
      },
      "outputs": [],
      "source": [
        "class Decoder(tf.keras.layers.Layer):\n",
        "  def __init__(self, num_blocks, d_model, num_heads, hidden_dim, target_vocab_size,\n",
        "               max_seq_len, dropout_rate=0.1):\n",
        "    super(Decoder, self).__init__()\n",
        "\n",
        "    self.d_model = d_model\n",
        "    self.max_seq_len = max_seq_len\n",
        "\n",
        "    self.token_embed = tf.keras.layers.Embedding(target_vocab_size, self.d_model)\n",
        "    self.pos_embed = tf.keras.layers.Embedding(max_seq_len, self.d_model)\n",
        "\n",
        "    self.dropout = tf.keras.layers.Dropout(dropout_rate)\n",
        "\n",
        "    self.blocks = [DecoderBlock(self.d_model, num_heads, hidden_dim, dropout_rate) for _ in range(num_blocks)]\n",
        "\n",
        "  def call(self, encoder_output, target, training, decoder_mask, memory_mask):\n",
        "    token_embeds = self.token_embed(target)\n",
        "\n",
        "    # Generate position indices.\n",
        "    num_pos = target.shape[0] * self.max_seq_len\n",
        "    pos_idx = np.resize(np.arange(self.max_seq_len), num_pos)\n",
        "    pos_idx = np.reshape(pos_idx, target.shape)\n",
        "\n",
        "    pos_embeds = self.pos_embed(pos_idx)\n",
        "\n",
        "    x = self.dropout(token_embeds + pos_embeds, training=training)\n",
        "\n",
        "    for block in self.blocks:\n",
        "      x, weights = block(encoder_output=encoder_output, target=x, training=training, decoder_mask=decoder_mask, memory_mask=memory_mask)\n",
        "\n",
        "    return x, weights"
      ]
    },
    {
      "cell_type": "markdown",
      "metadata": {
        "id": "gkZ1T-hSscOw"
      },
      "source": [
        "Before we try the decoder, let's cover the masks involved. The decoder takes two masks:\n",
        "\n",
        "The *decoder mask* which is a <u>combination of two masks</u>: one to account for the padding in target sequences, and the look-ahead mask. This mask is used in the decoder's **first** multi-head self-attention layer.\n",
        "\n",
        "The *memory mask* which is used in the decoder's **second** multi-head self-attention. The keys and values for this layer are going to be the encoder's output, and this mask will ensure the decoder doesn't attend to any encoder output which corresponds to padding."
      ]
    },
    {
      "cell_type": "markdown",
      "metadata": {
        "id": "EjiEOx5WoOb8"
      },
      "source": [
        "Suppose this is our batch of vectorized target *input* sequences for the decoder. These values are just made up.<br>\n",
        "\n",
        "**Note**: If you need a refresher on how to prepare target input and output sequences for the decoder, refer to the [seq2seq notebook](https://colab.research.google.com/github/nitinpunjabi/nlp-demystified/blob/main/notebooks/nlpdemystified_seq2seq_and_attention.ipynb).\n",
        "\n"
      ]
    },
    {
      "cell_type": "code",
      "execution_count": 151,
      "metadata": {
        "id": "0X6gKNzgv0gP"
      },
      "outputs": [],
      "source": [
        "# Made up values.\n",
        "target_input_seqs = [\n",
        "    [1, 652, 723, 123, 62],\n",
        "    [1, 25,  98, 129, 248, 215, 359, 249],\n",
        "    [1, 2369, 1259, 125, 486],\n",
        "]"
      ]
    },
    {
      "cell_type": "markdown",
      "metadata": {
        "id": "SgriJUKgyxNN"
      },
      "source": [
        "As we did with the encoder input sequences, we need to pad out this batch so that all sequences within it are the same length."
      ]
    },
    {
      "cell_type": "code",
      "execution_count": 152,
      "metadata": {
        "id": "4hFp1nkSypnz",
        "colab": {
          "base_uri": "https://localhost:8080/"
        },
        "outputId": "6345dd74-9637-400e-fb1c-c998d0c458b8"
      },
      "outputs": [
        {
          "output_type": "stream",
          "name": "stdout",
          "text": [
            "Padded target inputs to the decoder:\n",
            "(3, 8)\n",
            "[[   1  652  723  123   62    0    0    0]\n",
            " [   1   25   98  129  248  215  359  249]\n",
            " [   1 2369 1259  125  486    0    0    0]]\n"
          ]
        }
      ],
      "source": [
        "padded_target_input_seqs = tf.keras.preprocessing.sequence.pad_sequences(target_input_seqs, padding=\"post\")\n",
        "print(\"Padded target inputs to the decoder:\")\n",
        "print(padded_target_input_seqs.shape)\n",
        "print(padded_target_input_seqs)"
      ]
    },
    {
      "cell_type": "markdown",
      "metadata": {
        "id": "qZysfgvUzNBI"
      },
      "source": [
        "We can create the padding mask the same way we did for the encoder."
      ]
    },
    {
      "cell_type": "code",
      "execution_count": 153,
      "metadata": {
        "id": "PLKeI4R20axA",
        "colab": {
          "base_uri": "https://localhost:8080/"
        },
        "outputId": "2f4d83e8-6ef6-47f8-a701-e79f456c673e"
      },
      "outputs": [
        {
          "output_type": "stream",
          "name": "stdout",
          "text": [
            "tf.Tensor(\n",
            "[[[[1. 1. 1. 1. 1. 0. 0. 0.]]]\n",
            "\n",
            "\n",
            " [[[1. 1. 1. 1. 1. 1. 1. 1.]]]\n",
            "\n",
            "\n",
            " [[[1. 1. 1. 1. 1. 0. 0. 0.]]]], shape=(3, 1, 1, 8), dtype=float32)\n"
          ]
        }
      ],
      "source": [
        "dec_padding_mask = tf.cast(tf.math.not_equal(padded_target_input_seqs, 0), tf.float32)\n",
        "dec_padding_mask = dec_padding_mask[:, tf.newaxis, tf.newaxis, :]\n",
        "print(dec_padding_mask)"
      ]
    },
    {
      "cell_type": "markdown",
      "metadata": {
        "id": "S7EwYtJa0uvH"
      },
      "source": [
        "As we covered in the slides, the look-ahead mask is a diagonal where the lower half are 1s and the upper half are zeros. This is easy to create using the *band_part* method:<br>\n",
        "https://www.tensorflow.org/api_docs/python/tf/linalg/band_part"
      ]
    },
    {
      "cell_type": "code",
      "execution_count": 154,
      "metadata": {
        "id": "yZFnGgJa04a-",
        "colab": {
          "base_uri": "https://localhost:8080/"
        },
        "outputId": "93f5ff56-2856-473f-e4e8-9456cc9622b2"
      },
      "outputs": [
        {
          "output_type": "stream",
          "name": "stdout",
          "text": [
            "tf.Tensor(\n",
            "[[1. 0. 0. 0. 0. 0. 0. 0.]\n",
            " [1. 1. 0. 0. 0. 0. 0. 0.]\n",
            " [1. 1. 1. 0. 0. 0. 0. 0.]\n",
            " [1. 1. 1. 1. 0. 0. 0. 0.]\n",
            " [1. 1. 1. 1. 1. 0. 0. 0.]\n",
            " [1. 1. 1. 1. 1. 1. 0. 0.]\n",
            " [1. 1. 1. 1. 1. 1. 1. 0.]\n",
            " [1. 1. 1. 1. 1. 1. 1. 1.]], shape=(8, 8), dtype=float32)\n"
          ]
        }
      ],
      "source": [
        "target_input_seq_len = padded_target_input_seqs.shape[1]\n",
        "look_ahead_mask = tf.linalg.band_part(tf.ones((target_input_seq_len,\n",
        "                                               target_input_seq_len)), -1, 0)\n",
        "print(look_ahead_mask)"
      ]
    },
    {
      "cell_type": "markdown",
      "metadata": {
        "id": "WPzxVG2S87T2"
      },
      "source": [
        "To create the decoder mask, we just need to combine the padding and look-ahead masks. Note how the columns of the resulting decoder mask are all zero for padding positions."
      ]
    },
    {
      "cell_type": "code",
      "execution_count": 155,
      "metadata": {
        "id": "vArTOY1x2bzn",
        "colab": {
          "base_uri": "https://localhost:8080/"
        },
        "outputId": "1ac47624-77e0-4131-adf8-391511e1e318"
      },
      "outputs": [
        {
          "output_type": "stream",
          "name": "stdout",
          "text": [
            "The decoder mask:\n",
            "tf.Tensor(\n",
            "[[[[1. 0. 0. 0. 0. 0. 0. 0.]\n",
            "   [1. 1. 0. 0. 0. 0. 0. 0.]\n",
            "   [1. 1. 1. 0. 0. 0. 0. 0.]\n",
            "   [1. 1. 1. 1. 0. 0. 0. 0.]\n",
            "   [1. 1. 1. 1. 1. 0. 0. 0.]\n",
            "   [1. 1. 1. 1. 1. 0. 0. 0.]\n",
            "   [1. 1. 1. 1. 1. 0. 0. 0.]\n",
            "   [1. 1. 1. 1. 1. 0. 0. 0.]]]\n",
            "\n",
            "\n",
            " [[[1. 0. 0. 0. 0. 0. 0. 0.]\n",
            "   [1. 1. 0. 0. 0. 0. 0. 0.]\n",
            "   [1. 1. 1. 0. 0. 0. 0. 0.]\n",
            "   [1. 1. 1. 1. 0. 0. 0. 0.]\n",
            "   [1. 1. 1. 1. 1. 0. 0. 0.]\n",
            "   [1. 1. 1. 1. 1. 1. 0. 0.]\n",
            "   [1. 1. 1. 1. 1. 1. 1. 0.]\n",
            "   [1. 1. 1. 1. 1. 1. 1. 1.]]]\n",
            "\n",
            "\n",
            " [[[1. 0. 0. 0. 0. 0. 0. 0.]\n",
            "   [1. 1. 0. 0. 0. 0. 0. 0.]\n",
            "   [1. 1. 1. 0. 0. 0. 0. 0.]\n",
            "   [1. 1. 1. 1. 0. 0. 0. 0.]\n",
            "   [1. 1. 1. 1. 1. 0. 0. 0.]\n",
            "   [1. 1. 1. 1. 1. 0. 0. 0.]\n",
            "   [1. 1. 1. 1. 1. 0. 0. 0.]\n",
            "   [1. 1. 1. 1. 1. 0. 0. 0.]]]], shape=(3, 1, 8, 8), dtype=float32)\n"
          ]
        }
      ],
      "source": [
        "dec_mask = tf.minimum(dec_padding_mask, look_ahead_mask)\n",
        "print(\"The decoder mask:\")\n",
        "print(dec_mask)"
      ]
    },
    {
      "cell_type": "markdown",
      "metadata": {
        "id": "iLHbt7nJ9xUX"
      },
      "source": [
        "We can now declare a decoder and pass it everything it needs. In our case, the *memory* mask is the same as the *encoder* mask."
      ]
    },
    {
      "cell_type": "code",
      "execution_count": 156,
      "metadata": {
        "id": "bFE-VaCrmLKu",
        "colab": {
          "base_uri": "https://localhost:8080/"
        },
        "outputId": "08f3c891-bdae-4566-e35c-0c2e6c9479ed"
      },
      "outputs": [
        {
          "output_type": "stream",
          "name": "stdout",
          "text": [
            "Decoder output (3, 8, 12):\n",
            "tf.Tensor(\n",
            "[[[-1.392404    0.80751544  0.5884524   0.11931834  1.9014071\n",
            "    0.2405626  -1.8042227   0.3398928  -0.44588256 -1.1996797\n",
            "    0.4185815   0.42645895]\n",
            "  [-0.8263886   0.56320167  1.7330054   1.1195354   1.1469616\n",
            "   -0.07810245 -1.8630401   0.13881044  0.11155178 -1.0997264\n",
            "   -0.8271812  -0.11862742]\n",
            "  [-1.3095174   0.2652379   1.4245481   0.9675348   1.7069954\n",
            "   -0.02487501 -1.6928331   0.20464136 -0.2344392  -1.0730258\n",
            "   -0.42009917  0.18583205]\n",
            "  [-2.0250492   1.0710709   1.1227536   1.2479886   1.3217863\n",
            "   -0.33384183 -0.8424877   0.26743492 -0.14789423 -0.99569184\n",
            "   -0.47291356 -0.21315598]\n",
            "  [-1.4375656   0.74480414  1.0914987   0.79071176  1.800177\n",
            "    0.2022104  -1.9317381   0.0810984  -0.12643388 -0.36471936\n",
            "   -0.52497643 -0.32506704]\n",
            "  [-0.7676151   1.085856    1.8423499  -0.69002265  1.5989496\n",
            "   -0.21772891 -1.5515097   0.25026444  0.00386874 -0.9674823\n",
            "   -0.58172995 -0.00519993]\n",
            "  [-0.72171456  0.54279494  1.9903524   1.0262178   0.37234646\n",
            "   -0.31616098 -1.9012588   0.49107385  0.31793815 -0.9731498\n",
            "   -0.9937681   0.16532856]\n",
            "  [-1.0101228  -0.11277197  2.1014187   0.8168498   1.4964813\n",
            "   -0.61976546 -1.0093791   0.1488521  -0.33520502 -1.1988401\n",
            "   -0.69603926  0.4185214 ]]\n",
            "\n",
            " [[-1.2359924   0.7492778   0.03893694  0.42090535  1.4542814\n",
            "   -0.33553103 -1.25736     1.8637024   0.11556614  0.2509978\n",
            "   -1.3696828  -0.69510186]\n",
            "  [-0.5966839  -0.3101252   0.33555964  1.0313796   1.4516432\n",
            "   -1.7878283  -0.6537133   1.4740365  -0.9262221   0.7900639\n",
            "   -0.9713788   0.1632689 ]\n",
            "  [-0.9718689  -0.07417981  1.2429546  -0.5465121   1.1679089\n",
            "   -0.15759082  0.28920949  1.9453233  -1.8424274  -0.66129607\n",
            "   -0.31287998 -0.07864095]\n",
            "  [-0.33449748  1.1081892   0.22400023  0.5980159   1.2468586\n",
            "    0.13847579  0.22592734 -0.01096762 -0.33451974 -1.5592663\n",
            "   -2.2677808   0.96556497]\n",
            "  [-0.08318582  0.8301623   1.9084455   0.13137606 -1.375736\n",
            "   -1.06336     0.7331605   1.1941336  -1.2418224  -0.87473416\n",
            "   -0.4825541   0.32411504]\n",
            "  [-0.7796078   0.9042165   1.1213143  -0.16754693 -0.69204915\n",
            "   -0.9101099   0.4768132   2.446888   -0.8309227  -0.4666851\n",
            "   -0.89828753 -0.20402347]\n",
            "  [-1.4881488   1.6995676   0.6622786  -0.5789056   0.48923817\n",
            "   -0.60849065  0.53776026  1.6460179   0.08018223 -0.7175588\n",
            "   -1.3608758  -0.36106485]\n",
            "  [-0.19954489  1.8258647   0.7503511  -0.4356247   0.21800782\n",
            "   -0.596389   -0.8345813   1.831395   -0.23543793 -0.5439581\n",
            "   -1.7482982  -0.03178472]]\n",
            "\n",
            " [[-0.74746525 -1.0021137   0.8278203   1.8189886   1.7110641\n",
            "   -1.3091164  -1.2174095   0.36261562 -0.21330842 -0.13593662\n",
            "   -0.28202635  0.18688762]\n",
            "  [-1.4006282  -0.8334914   0.24681792  0.65386313  1.919213\n",
            "   -1.1691945   0.11386519  0.5800495  -1.339835   -0.24828255\n",
            "    0.2420375   1.2355853 ]\n",
            "  [-1.157089   -1.0926006   0.83886844  0.99776     2.0058355\n",
            "   -0.51677483 -1.3603971   0.56614095 -0.13475323 -0.39315182\n",
            "    0.8622652  -0.6161035 ]\n",
            "  [-2.1677065  -0.7172918   1.341442    0.69069123  1.7797307\n",
            "   -0.03814463 -1.0043684   0.40136844 -0.08487004 -0.06387393\n",
            "    0.19636515 -0.3333421 ]\n",
            "  [-1.2675235  -0.3269624   1.4281907  -0.79467225  1.3617202\n",
            "   -0.914204   -0.56855035  0.89363265 -1.1465216  -0.50097275\n",
            "    0.39745513  1.4384085 ]\n",
            "  [-0.9731239  -0.53945625  1.6586227   0.48233092  2.0861492\n",
            "   -0.5589541  -0.92218024  0.4380354  -0.20461477 -1.3720673\n",
            "    0.21047035 -0.3052121 ]\n",
            "  [-1.14488    -0.99672323  1.389224    0.8465844   1.5814149\n",
            "    0.9499572  -1.2937329   0.5538933  -0.11990607 -1.0379102\n",
            "    0.0225337  -0.7504553 ]\n",
            "  [-1.8078887  -0.2883624   1.4014895   0.6332203   1.9298567\n",
            "   -0.36162058 -0.8692825   0.82670295 -0.24084163 -0.80990505\n",
            "    0.0920855  -0.5054543 ]]], shape=(3, 8, 12), dtype=float32)\n"
          ]
        }
      ],
      "source": [
        "decoder = Decoder(6, 12, 3, 48, 10000, 8)\n",
        "decoder_output, _ = decoder(encoder_output=encoder_output, target=padded_target_input_seqs,\n",
        "                            training=True, decoder_mask=dec_mask, memory_mask=enc_mask)\n",
        "print(f\"Decoder output {decoder_output.shape}:\")\n",
        "print(decoder_output)"
      ]
    },
    {
      "cell_type": "markdown",
      "metadata": {
        "id": "UgFtxMQxMNNJ"
      },
      "source": [
        "## Transformer"
      ]
    },
    {
      "cell_type": "markdown",
      "metadata": {
        "id": "bYFJuqbl-Jt7"
      },
      "source": [
        "We now have all the pieces to build the **Transformer** itself, and it's pretty simple."
      ]
    },
    {
      "cell_type": "code",
      "execution_count": 166,
      "metadata": {
        "id": "DfNkAsv8MNQ8"
      },
      "outputs": [],
      "source": [
        "class Transformer(tf.keras.Model):\n",
        "  def __init__(self, num_blocks, d_model, num_heads, hidden_dim, source_vocab_size,\n",
        "               target_vocab_size, max_input_len, max_target_len, dropout_rate=0.1):\n",
        "    super(Transformer, self).__init__()\n",
        "\n",
        "    self.encoder = Encoder(num_blocks, d_model, num_heads, hidden_dim, source_vocab_size,\n",
        "                           max_input_len, dropout_rate)\n",
        "\n",
        "    self.decoder = Decoder(num_blocks, d_model, num_heads, hidden_dim, target_vocab_size,\n",
        "                           max_target_len, dropout_rate)\n",
        "\n",
        "    # The final dense layer to generate logits from the decoder output.\n",
        "    self.output_layer = tf.keras.layers.Dense(target_vocab_size)\n",
        "\n",
        "  def call(self, input_seqs, target_input_seqs, training, encoder_mask,\n",
        "           decoder_mask, memory_mask):\n",
        "    encoder_output, encoder_attn_weights = self.encoder(input=input_seqs,\n",
        "                                                        training=training, mask=encoder_mask)\n",
        "\n",
        "    decoder_output, decoder_attn_weights = self.decoder(encoder_output=encoder_output,\n",
        "                                                        target=target_input_seqs,\n",
        "                                                        training=training,\n",
        "                                                        decoder_mask=decoder_mask,\n",
        "                                                        memory_mask=memory_mask)\n",
        "\n",
        "    return self.output_layer(decoder_output), encoder_attn_weights, decoder_attn_weights\n"
      ]
    },
    {
      "cell_type": "code",
      "execution_count": 167,
      "metadata": {
        "id": "1VOou7zjQ7el",
        "colab": {
          "base_uri": "https://localhost:8080/"
        },
        "outputId": "420a122e-5bf5-4ecf-e2a6-ee414194d126"
      },
      "outputs": [
        {
          "output_type": "stream",
          "name": "stdout",
          "text": [
            "Transformer output (3, 8, 7000):\n",
            "tf.Tensor(\n",
            "[[[ 0.00731332  0.04587527  0.04748233 ...  0.07824551 -0.07507154\n",
            "    0.09597214]\n",
            "  [-0.0104115   0.01235084  0.03681688 ...  0.03563239 -0.05328212\n",
            "    0.07149391]\n",
            "  [ 0.00688984  0.01921601  0.05249054 ...  0.05040047 -0.0290722\n",
            "    0.13523383]\n",
            "  ...\n",
            "  [-0.04869027  0.05809747  0.01587982 ...  0.07286657 -0.02220155\n",
            "    0.0379923 ]\n",
            "  [-0.02782372  0.0725248   0.05032315 ...  0.12392734 -0.056352\n",
            "    0.10691591]\n",
            "  [-0.0214413   0.04324479  0.05715049 ...  0.09436374 -0.0403249\n",
            "    0.11694759]]\n",
            "\n",
            " [[-0.01883995  0.03135853  0.04840583 ...  0.04678973 -0.01536078\n",
            "    0.102964  ]\n",
            "  [-0.03395027  0.03969305  0.02485096 ...  0.05448001  0.00550492\n",
            "    0.1127027 ]\n",
            "  [-0.04619592  0.04743066  0.02719874 ...  0.07895622  0.00376518\n",
            "    0.13221996]\n",
            "  ...\n",
            "  [-0.04368157  0.0486478   0.00734998 ...  0.08028561  0.01617477\n",
            "    0.12260336]\n",
            "  [-0.02967573  0.05021084  0.02383391 ...  0.06259517  0.03073626\n",
            "    0.12355409]\n",
            "  [-0.01077404  0.04275585  0.05131537 ...  0.04617387  0.00743602\n",
            "    0.09006289]]\n",
            "\n",
            " [[-0.06650327  0.08185545  0.01744944 ...  0.09405836  0.03064089\n",
            "    0.10194941]\n",
            "  [-0.05281541  0.04885877  0.0276327  ...  0.07187313  0.02243206\n",
            "    0.13648328]\n",
            "  [-0.04496839  0.061285    0.04035458 ...  0.09199262  0.00421181\n",
            "    0.12035926]\n",
            "  ...\n",
            "  [-0.05250088  0.07095826  0.03028247 ...  0.1004153  -0.00077683\n",
            "    0.12328979]\n",
            "  [-0.04250411  0.05093855  0.02396522 ...  0.10022695  0.00696399\n",
            "    0.13181114]\n",
            "  [-0.03719809  0.04657149  0.03065573 ...  0.09032623 -0.00570956\n",
            "    0.12427836]]], shape=(3, 8, 7000), dtype=float32)\n"
          ]
        }
      ],
      "source": [
        "transformer = Transformer(\n",
        "    num_blocks = 6,\n",
        "    d_model = 12,\n",
        "    num_heads = 3,\n",
        "    hidden_dim = 48,\n",
        "    source_vocab_size = bpemb_vocab_size,\n",
        "    target_vocab_size = 7000, # made-up target vocab size.\n",
        "    max_input_len = padded_input_seqs.shape[1],\n",
        "    max_target_len = padded_target_input_seqs.shape[1])\n",
        "\n",
        "transformer_output, _, _ = transformer(input_seqs=padded_input_seqs,\n",
        "                                       target_input_seqs=\n",
        "                                       padded_target_input_seqs,\n",
        "                                       training=True,\n",
        "                                       encoder_mask=enc_mask,\n",
        "                                       decoder_mask=dec_mask,\n",
        "                                       memory_mask=enc_mask)\n",
        "print(f\"Transformer output {transformer_output.shape}:\")\n",
        "print(transformer_output) # If training, we would use this output to calculate losses."
      ]
    },
    {
      "cell_type": "markdown",
      "metadata": {
        "id": "BV_fyVfIPzjH"
      },
      "source": [
        "That's the whole original transformer from scratch. learning rate warmup (Refer to the paper for more information on this)."
      ]
    },
    {
      "cell_type": "markdown",
      "metadata": {
        "id": "UReJEI3rFKN2"
      },
      "source": [
        "It's useful to know how these models work under the hood, but to train our own transformer to get impressive results is expensive. Both in terms of compute and data.<br>\n",
        "\n",
        "Fortunately, there's a zoo of **pretrained** transformer models we can use. We'll explore that later."
      ]
    }
  ],
  "metadata": {
    "accelerator": "GPU",
    "colab": {
      "provenance": [],
      "include_colab_link": true
    },
    "gpuClass": "standard",
    "kernelspec": {
      "display_name": "Python 3",
      "name": "python3"
    },
    "language_info": {
      "name": "python"
    }
  },
  "nbformat": 4,
  "nbformat_minor": 0
}